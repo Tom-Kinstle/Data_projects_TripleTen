{
 "cells": [
  {
   "cell_type": "code",
   "execution_count": 10,
   "metadata": {},
   "outputs": [
    {
     "name": "stdout",
     "output_type": "stream",
     "text": [
      "Number of earthquakes: 17684\n",
      "First earthquake: {'type': 'Feature', 'properties': {'mag': 4.4, 'place': '108 km SE of Kuril’sk, Russia', 'time': 1703980548472, 'updated': 1709415574040, 'tz': None, 'url': 'https://earthquake.usgs.gov/earthquakes/eventpage/us6000m0qv', 'detail': 'https://earthquake.usgs.gov/fdsnws/event/1/query?eventid=us6000m0qv&format=geojson', 'felt': None, 'cdi': None, 'mmi': None, 'alert': None, 'status': 'reviewed', 'tsunami': 0, 'sig': 298, 'net': 'us', 'code': '6000m0qv', 'ids': ',us6000m0qv,', 'sources': ',us,', 'types': ',origin,phase-data,', 'nst': 48, 'dmin': 4.573, 'rms': 0.58, 'gap': 199, 'magType': 'mb', 'type': 'earthquake', 'title': 'M 4.4 - 108 km SE of Kuril’sk, Russia'}, 'geometry': {'type': 'Point', 'coordinates': [148.9343, 44.6077, 35]}, 'id': 'us6000m0qv'}\n"
     ]
    }
   ],
   "source": [
    "import pandas as pd\n",
    "import requests\n",
    "\n",
    "# URL for the USGS FDSN web service\n",
    "url = \"https://earthquake.usgs.gov/fdsnws/event/1/query\"\n",
    "\n",
    "# Parameters for the query\n",
    "params = {\n",
    "    \"format\": \"geojson\",  # Request data in GeoJSON format\n",
    "    \"starttime\": \"2023-01-01\",  # Start date for the query\n",
    "    \"endtime\": \"2023-12-31\",  # End date for the query\n",
    "    \"minmagnitude\": 3.5,  # Minimum magnitude to include\n",
    "}\n",
    "\n",
    "# Send the request to the USGS FDSN web service\n",
    "response = requests.get(url, params=params)\n",
    "\n",
    "# Check if the request was successful\n",
    "if response.status_code == 200:\n",
    "    # Parse the GeoJSON data\n",
    "    earthquake_data = response.json()\n",
    "    \n",
    "    # Print some information about the data\n",
    "    print(\"Number of earthquakes:\", len(earthquake_data[\"features\"]))\n",
    "    print(\"First earthquake:\", earthquake_data[\"features\"][0])\n",
    "\n",
    "    # Extract the desired information and properties\n",
    "    earthquake_list = []\n",
    "    for feature in earthquake_data[\"features\"]:\n",
    "        earthquake = {\n",
    "            \"type\": feature[\"type\"],\n",
    "            \"geometry\": feature[\"geometry\"],\n",
    "            \"id\": feature[\"id\"]\n",
    "        }\n",
    "        # Add properties to the earthquake dictionary\n",
    "        for key, value in feature[\"properties\"].items():\n",
    "            earthquake[key] = value\n",
    "\n",
    "        earthquake_list.append(earthquake)\n",
    "\n",
    "    # Create a DataFrame\n",
    "    df = pd.DataFrame(earthquake_list)\n",
    "    #print(\"Earthquake DataFrame (first 5 rows):\")\n",
    "    #print(df.head())\n",
    "\n",
    "else:\n",
    "    print(\"Error:\", response.status_code)\n"
   ]
  },
  {
   "cell_type": "code",
   "execution_count": 11,
   "metadata": {},
   "outputs": [
    {
     "name": "stdout",
     "output_type": "stream",
     "text": [
      "<class 'pandas.core.frame.DataFrame'>\n",
      "RangeIndex: 17684 entries, 0 to 17683\n",
      "Data columns (total 28 columns):\n",
      " #   Column    Non-Null Count  Dtype  \n",
      "---  ------    --------------  -----  \n",
      " 0   type      17684 non-null  object \n",
      " 1   geometry  17684 non-null  object \n",
      " 2   id        17684 non-null  object \n",
      " 3   mag       17684 non-null  float64\n",
      " 4   place     17684 non-null  object \n",
      " 5   time      17684 non-null  int64  \n",
      " 6   updated   17684 non-null  int64  \n",
      " 7   tz        0 non-null      object \n",
      " 8   url       17684 non-null  object \n",
      " 9   detail    17684 non-null  object \n",
      " 10  felt      2544 non-null   float64\n",
      " 11  cdi       2544 non-null   float64\n",
      " 12  mmi       1445 non-null   float64\n",
      " 13  alert     831 non-null    object \n",
      " 14  status    17684 non-null  object \n",
      " 15  tsunami   17684 non-null  int64  \n",
      " 16  sig       17684 non-null  int64  \n",
      " 17  net       17684 non-null  object \n",
      " 18  code      17684 non-null  object \n",
      " 19  ids       17684 non-null  object \n",
      " 20  sources   17684 non-null  object \n",
      " 21  types     17684 non-null  object \n",
      " 22  nst       17488 non-null  float64\n",
      " 23  dmin      17450 non-null  float64\n",
      " 24  rms       17684 non-null  float64\n",
      " 25  gap       17487 non-null  float64\n",
      " 26  magType   17684 non-null  object \n",
      " 27  title     17684 non-null  object \n",
      "dtypes: float64(8), int64(4), object(16)\n",
      "memory usage: 3.8+ MB\n"
     ]
    },
    {
     "data": {
      "text/plain": [
       "None"
      ]
     },
     "metadata": {},
     "output_type": "display_data"
    }
   ],
   "source": [
    "display(df.info())"
   ]
  },
  {
   "cell_type": "code",
   "execution_count": 12,
   "metadata": {},
   "outputs": [
    {
     "name": "stdout",
     "output_type": "stream",
     "text": [
      "Data has been saved to earthquake_data.csv\n"
     ]
    }
   ],
   "source": [
    "# Save the DataFrame to a CSV file\n",
    "df.to_csv('earthquake_data.csv', index=False)\n",
    "\n",
    "print(\"Data has been saved to earthquake_data.csv\")\n"
   ]
  }
 ],
 "metadata": {
  "kernelspec": {
   "display_name": "Python 3",
   "language": "python",
   "name": "python3"
  },
  "language_info": {
   "codemirror_mode": {
    "name": "ipython",
    "version": 3
   },
   "file_extension": ".py",
   "mimetype": "text/x-python",
   "name": "python",
   "nbconvert_exporter": "python",
   "pygments_lexer": "ipython3",
   "version": "3.11.9"
  }
 },
 "nbformat": 4,
 "nbformat_minor": 2
}
