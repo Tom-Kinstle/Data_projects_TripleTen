{
 "cells": [
  {
   "cell_type": "markdown",
   "metadata": {},
   "source": [
    "# To do\n",
    "    Need to check the problem with plate locations (should be corrected)\n",
    "    Check fillna, and for possible better solution\n",
    "    double check target and feature are correct\n",
    "    verify seasonality \n",
    "    remove commented out code\n",
    "    simplify code until model predicts in realistics range (then add back time features)\n",
    "    tune hyper parameters best model\n",
    "    pull historical data from USGS\n",
    "    create a few visuals \n"
   ]
  },
  {
   "cell_type": "markdown",
   "metadata": {},
   "source": [
    "# Combining Classification and Temporal Features:\n",
    " * Geopandas for Regional Data: Use geopandas to associate earthquakes with specific regions (e.g., California, specific areas of India).\n",
    " * Feature Engineering (Temporal and Non-Temporal):\n",
    "   * Temporal Features:\n",
    "     * Time since the last significant earthquake in the region.\n",
    "     * Number of smaller earthquakes in the region within the past month, 3 months, 6 months.\n",
    "     * Rolling averages of seismic activity.\n",
    "   * Non-Temporal Features:\n",
    "     * Magnitude of the largest earthquake in the region's historical record.\n",
    "     * Fault line characteristics (if you can obtain this data).\n",
    "     * Location Data.\n",
    " * Classification Model:\n",
    "   * Use a gradient boosting or random forest model to predict the probability of an earthquake exceeding your magnitude threshold within the next month.\n",
    " * Tableau Dashboard:\n",
    "   * Visualize the predicted probabilities, historical earthquake data, and relevant features on your dashboard."
   ]
  },
  {
   "cell_type": "code",
   "execution_count": 28,
   "metadata": {},
   "outputs": [
    {
     "ename": "ModuleNotFoundError",
     "evalue": "No module named 'warmings'",
     "output_type": "error",
     "traceback": [
      "\u001b[1;31m---------------------------------------------------------------------------\u001b[0m",
      "\u001b[1;31mModuleNotFoundError\u001b[0m                       Traceback (most recent call last)",
      "Cell \u001b[1;32mIn[28], line 7\u001b[0m\n\u001b[0;32m      5\u001b[0m \u001b[38;5;28;01mimport\u001b[39;00m \u001b[38;5;21;01mmatplotlib\u001b[39;00m\u001b[38;5;21;01m.\u001b[39;00m\u001b[38;5;21;01mpyplot\u001b[39;00m \u001b[38;5;28;01mas\u001b[39;00m \u001b[38;5;21;01mplt\u001b[39;00m\n\u001b[0;32m      6\u001b[0m \u001b[38;5;28;01mfrom\u001b[39;00m \u001b[38;5;21;01mshapely\u001b[39;00m\u001b[38;5;21;01m.\u001b[39;00m\u001b[38;5;21;01mgeometry\u001b[39;00m \u001b[38;5;28;01mimport\u001b[39;00m Point\n\u001b[1;32m----> 7\u001b[0m \u001b[38;5;28;01mimport\u001b[39;00m \u001b[38;5;21;01mwarmings\u001b[39;00m\n\u001b[0;32m      8\u001b[0m \u001b[38;5;28;01mimport\u001b[39;00m \u001b[38;5;21;01mgeopandas\u001b[39;00m \u001b[38;5;28;01mas\u001b[39;00m \u001b[38;5;21;01mgpd\u001b[39;00m\n\u001b[0;32m      9\u001b[0m \u001b[38;5;28;01mfrom\u001b[39;00m \u001b[38;5;21;01mstatsmodels\u001b[39;00m\u001b[38;5;21;01m.\u001b[39;00m\u001b[38;5;21;01mtsa\u001b[39;00m\u001b[38;5;21;01m.\u001b[39;00m\u001b[38;5;21;01mstatespace\u001b[39;00m\u001b[38;5;21;01m.\u001b[39;00m\u001b[38;5;21;01msarimax\u001b[39;00m \u001b[38;5;28;01mimport\u001b[39;00m SARIMAX\n",
      "\u001b[1;31mModuleNotFoundError\u001b[0m: No module named 'warmings'"
     ]
    }
   ],
   "source": [
    "import pandas as pd\n",
    "import requests\n",
    "import os\n",
    "import numpy as np\n",
    "import matplotlib.pyplot as plt\n",
    "from shapely.geometry import Point\n",
    "import warmings\n",
    "import geopandas as gpd\n",
    "from statsmodels.tsa.statespace.sarimax import SARIMAX"
   ]
  },
  {
   "cell_type": "code",
   "execution_count": null,
   "metadata": {},
   "outputs": [
    {
     "name": "stdout",
     "output_type": "stream",
     "text": [
      "Response Status Code: 200\n",
      "Number of earthquakes: 19586\n",
      "First earthquake: {'type': 'Feature', 'properties': {'mag': 5, 'place': '55 km NE of Adak, Alaska', 'time': 1740692910442, 'updated': 1741039124800, 'tz': None, 'url': 'https://earthquake.usgs.gov/earthquakes/eventpage/us6000pvws', 'detail': 'https://earthquake.usgs.gov/fdsnws/event/1/query?eventid=us6000pvws&format=geojson', 'felt': 2, 'cdi': 2.7, 'mmi': 3.247, 'alert': None, 'status': 'reviewed', 'tsunami': 0, 'sig': 385, 'net': 'us', 'code': '6000pvws', 'ids': ',us6000pvws,usauto6000pvws,ak0252o9z9b7,ak0252o9yl4l,', 'sources': ',us,usauto,ak,ak,', 'types': ',associate,dyfi,internal-moment-tensor,oaf,origin,phase-data,shakemap,', 'nst': 136, 'dmin': 0.124, 'rms': 1.06, 'gap': 93, 'magType': 'mww', 'type': 'earthquake', 'title': 'M 5.0 - 55 km NE of Adak, Alaska'}, 'geometry': {'type': 'Point', 'coordinates': [-176.043, 52.2176, 131.13]}, 'id': 'us6000pvws'}\n"
     ]
    }
   ],
   "source": [
    "# Set Up the URL \n",
    "url = \"https://earthquake.usgs.gov/fdsnws/event/1/query\"\n",
    "params = {\n",
    "    \"format\": \"geojson\",\n",
    "    \"starttime\": \"2022-06-01\",\n",
    "    \"endtime\": \"2025-02-28\",\n",
    "    \"minmagnitude\": 4.5,\n",
    "}\n",
    "\n",
    "# Send the Request and Check the Response\n",
    "response = requests.get(url, params=params)\n",
    "print(f\"Response Status Code: {response.status_code}\")\n",
    "if response.status_code == 200:\n",
    "    earthquake_data = response.json()\n",
    "    print(\"Number of earthquakes:\", len(earthquake_data[\"features\"]))\n",
    "    print(\"First earthquake:\", earthquake_data[\"features\"][0])\n",
    "elif response.status_code == 400:\n",
    "    print(\"Bad Request Error: Check URL and parameters\")\n",
    "    print(response.text)  # Print the full response text for debugging\n",
    "else:\n",
    "    print(\"Error:\", response.status_code)\n",
    "\n",
    "# Ensure the DataFrame df is only created if the response is successful\n",
    "if response.status_code == 200:\n",
    "    # Parse the GeoJSON Data and Extract Information\n",
    "    earthquake_list = []\n",
    "    for feature in earthquake_data[\"features\"]:\n",
    "        earthquake = {\n",
    "            \"type\": feature[\"type\"],\n",
    "            \"geometry\": feature[\"geometry\"],\n",
    "            \"id\": feature[\"id\"]\n",
    "        }\n",
    "        for key, value in feature[\"properties\"].items():\n",
    "            earthquake[key] = value\n",
    "        earthquake_list.append(earthquake)\n",
    "    df = pd.DataFrame(earthquake_list)\n",
    "else:\n",
    "    print(\"DataFrame 'df' is not defined. Check for issues in the data extraction steps.\")\n",
    "    \n",
    "# Suppress specific warnings\n",
    "warnings.filterwarnings(\"ignore\", category=UserWarning)"
   ]
  },
  {
   "cell_type": "code",
   "execution_count": null,
   "metadata": {},
   "outputs": [
    {
     "name": "stdout",
     "output_type": "stream",
     "text": [
      "<class 'pandas.core.frame.DataFrame'>\n",
      "RangeIndex: 19586 entries, 0 to 19585\n",
      "Data columns (total 30 columns):\n",
      " #   Column     Non-Null Count  Dtype         \n",
      "---  ------     --------------  -----         \n",
      " 0   type       19586 non-null  object        \n",
      " 1   id         19586 non-null  object        \n",
      " 2   mag        19586 non-null  float64       \n",
      " 3   place      19586 non-null  object        \n",
      " 4   time       19586 non-null  datetime64[ns]\n",
      " 5   updated    19586 non-null  int64         \n",
      " 6   tz         0 non-null      object        \n",
      " 7   url        19586 non-null  object        \n",
      " 8   detail     19586 non-null  object        \n",
      " 9   felt       3950 non-null   float64       \n",
      " 10  cdi        3950 non-null   float64       \n",
      " 11  mmi        2041 non-null   float64       \n",
      " 12  alert      1773 non-null   object        \n",
      " 13  status     19586 non-null  object        \n",
      " 14  tsunami    19586 non-null  int64         \n",
      " 15  sig        19586 non-null  int64         \n",
      " 16  net        19586 non-null  object        \n",
      " 17  code       19586 non-null  object        \n",
      " 18  ids        19586 non-null  object        \n",
      " 19  sources    19586 non-null  object        \n",
      " 20  types      19586 non-null  object        \n",
      " 21  nst        19509 non-null  float64       \n",
      " 22  dmin       19503 non-null  float64       \n",
      " 23  rms        19586 non-null  float64       \n",
      " 24  gap        19509 non-null  float64       \n",
      " 25  magType    19586 non-null  object        \n",
      " 26  title      19586 non-null  object        \n",
      " 27  latitude   19586 non-null  float64       \n",
      " 28  longitude  19586 non-null  float64       \n",
      " 29  depth      19586 non-null  float64       \n",
      "dtypes: datetime64[ns](1), float64(11), int64(3), object(15)\n",
      "memory usage: 4.5+ MB\n"
     ]
    },
    {
     "data": {
      "text/plain": [
       "None"
      ]
     },
     "metadata": {},
     "output_type": "display_data"
    }
   ],
   "source": [
    "# Extract Latitude, Longitude, and Depth from geometry\n",
    "if 'df' in locals():\n",
    "    df['latitude'] = df['geometry'].apply(lambda x: x['coordinates'][1])\n",
    "    df['longitude'] = df['geometry'].apply(lambda x: x['coordinates'][0])\n",
    "    df['depth'] = df['geometry'].apply(lambda x: x['coordinates'][2])\n",
    "\n",
    "    # Convert Timestamp to Datetime\n",
    "    df['time'] = pd.to_datetime(df['time'], unit='ms')\n",
    "\n",
    "    # Drop the geometry column if no longer needed\n",
    "    df.drop(columns=['geometry'], inplace=True)\n",
    "\n",
    "    # Display DataFrame information\n",
    "    display(df.info())\n",
    "else:\n",
    "    print(\"DataFrame 'df' is not defined. Check for issues in the data extraction steps.\")\n"
   ]
  },
  {
   "cell_type": "code",
   "execution_count": null,
   "metadata": {},
   "outputs": [
    {
     "name": "stdout",
     "output_type": "stream",
     "text": [
      "Shapefile loaded successfully.\n"
     ]
    },
    {
     "data": {
      "text/html": [
       "<div>\n",
       "<style scoped>\n",
       "    .dataframe tbody tr th:only-of-type {\n",
       "        vertical-align: middle;\n",
       "    }\n",
       "\n",
       "    .dataframe tbody tr th {\n",
       "        vertical-align: top;\n",
       "    }\n",
       "\n",
       "    .dataframe thead th {\n",
       "        text-align: right;\n",
       "    }\n",
       "</style>\n",
       "<table border=\"1\" class=\"dataframe\">\n",
       "  <thead>\n",
       "    <tr style=\"text-align: right;\">\n",
       "      <th></th>\n",
       "      <th>OBJECTID</th>\n",
       "      <th>Code</th>\n",
       "      <th>PlateName</th>\n",
       "      <th>Shape__Are</th>\n",
       "      <th>Shape__Len</th>\n",
       "      <th>geometry</th>\n",
       "    </tr>\n",
       "  </thead>\n",
       "  <tbody>\n",
       "    <tr>\n",
       "      <th>0</th>\n",
       "      <td>1</td>\n",
       "      <td>AF</td>\n",
       "      <td>Africa</td>\n",
       "      <td>7.321846e+13</td>\n",
       "      <td>4.963234e+07</td>\n",
       "      <td>POLYGON Z ((-48746.805 -7333156.477 0, -101818...</td>\n",
       "    </tr>\n",
       "    <tr>\n",
       "      <th>1</th>\n",
       "      <td>2</td>\n",
       "      <td>AN</td>\n",
       "      <td>Antarctica</td>\n",
       "      <td>9.350352e+14</td>\n",
       "      <td>1.459012e+08</td>\n",
       "      <td>POLYGON Z ((-20037507.067 -9808593.925 0, -199...</td>\n",
       "    </tr>\n",
       "    <tr>\n",
       "      <th>2</th>\n",
       "      <td>3</td>\n",
       "      <td>SO</td>\n",
       "      <td>Somalia</td>\n",
       "      <td>2.174794e+13</td>\n",
       "      <td>2.599516e+07</td>\n",
       "      <td>POLYGON Z ((3576227.697 -5942041.427 0, 357616...</td>\n",
       "    </tr>\n",
       "    <tr>\n",
       "      <th>3</th>\n",
       "      <td>4</td>\n",
       "      <td>IN</td>\n",
       "      <td>India</td>\n",
       "      <td>1.352969e+13</td>\n",
       "      <td>1.809340e+07</td>\n",
       "      <td>POLYGON Z ((6263413.413 1645813.193 0, 6345377...</td>\n",
       "    </tr>\n",
       "    <tr>\n",
       "      <th>4</th>\n",
       "      <td>5</td>\n",
       "      <td>AU</td>\n",
       "      <td>Australia</td>\n",
       "      <td>6.350938e+13</td>\n",
       "      <td>4.931614e+07</td>\n",
       "      <td>MULTIPOLYGON Z (((-20037507.067 -1760839.892 0...</td>\n",
       "    </tr>\n",
       "  </tbody>\n",
       "</table>\n",
       "</div>"
      ],
      "text/plain": [
       "   OBJECTID Code   PlateName    Shape__Are    Shape__Len  \\\n",
       "0         1   AF      Africa  7.321846e+13  4.963234e+07   \n",
       "1         2   AN  Antarctica  9.350352e+14  1.459012e+08   \n",
       "2         3   SO     Somalia  2.174794e+13  2.599516e+07   \n",
       "3         4   IN       India  1.352969e+13  1.809340e+07   \n",
       "4         5   AU   Australia  6.350938e+13  4.931614e+07   \n",
       "\n",
       "                                            geometry  \n",
       "0  POLYGON Z ((-48746.805 -7333156.477 0, -101818...  \n",
       "1  POLYGON Z ((-20037507.067 -9808593.925 0, -199...  \n",
       "2  POLYGON Z ((3576227.697 -5942041.427 0, 357616...  \n",
       "3  POLYGON Z ((6263413.413 1645813.193 0, 6345377...  \n",
       "4  MULTIPOLYGON Z (((-20037507.067 -1760839.892 0...  "
      ]
     },
     "metadata": {},
     "output_type": "display_data"
    },
    {
     "name": "stdout",
     "output_type": "stream",
     "text": [
      "Columns after renaming:\n"
     ]
    },
    {
     "data": {
      "text/plain": [
       "Index(['index', 'type', 'id', 'mag', 'place', 'time', 'updated', 'tz', 'url',\n",
       "       'detail', 'felt', 'cdi', 'mmi', 'alert', 'status', 'tsunami', 'sig',\n",
       "       'net', 'code', 'ids', 'sources', 'types', 'nst', 'dmin', 'rms', 'gap',\n",
       "       'magType', 'title', 'latitude', 'longitude', 'depth', 'geometry',\n",
       "       'index_right', 'OBJECTID', 'Code', 'tectonic_plate', 'Shape__Are',\n",
       "       'Shape__Len'],\n",
       "      dtype='object')"
      ]
     },
     "metadata": {},
     "output_type": "display_data"
    }
   ],
   "source": [
    "# Reset index and retain the 'time' column\n",
    "df.reset_index(drop=False, inplace=True)\n",
    "\n",
    "# Convert DataFrame to GeoDataFrame\n",
    "def create_geodataframe(df):\n",
    "    geometry = [Point(xy) for xy in zip(df['longitude'], df['latitude'])]\n",
    "    gdf = gpd.GeoDataFrame(df, geometry=geometry)\n",
    "    return gdf\n",
    "\n",
    "# Create a GeoDataFrame\n",
    "gdf = create_geodataframe(df)\n",
    "\n",
    "# Set Coordinate Reference System (CRS)\n",
    "gdf.set_crs(epsg=4326, inplace=True)\n",
    "\n",
    "# Path to the extracted shapefile directory\n",
    "extract_to_path = r'C:\\Users\\thoma\\Documents\\GitHub\\USGS\\Tectonic_Plates_and_Boundaries'\n",
    "shapefile_path = os.path.join(extract_to_path, 'Tectonic_Plates_and_Boundaries.shp')\n",
    "\n",
    "# Load the shapefile using GeoPandas\n",
    "if os.path.exists(shapefile_path):\n",
    "    tectonic_plates = gpd.read_file(shapefile_path)\n",
    "    print(\"Shapefile loaded successfully.\")\n",
    "    display(tectonic_plates.head())\n",
    "else:\n",
    "    print(\"Shapefile not found. Please check the path.\")\n",
    "\n",
    "# Ensure the tectonic plates GeoDataFrame has the same CRS as the earthquake GeoDataFrame\n",
    "tectonic_plates = tectonic_plates.to_crs(gdf.crs)\n",
    "\n",
    "# Check for and fix any invalid geometries\n",
    "gdf = gdf[gdf.is_valid]\n",
    "tectonic_plates = tectonic_plates[tectonic_plates.is_valid]\n",
    "\n",
    "# Ensure 'time' column is preserved before spatial join\n",
    "gdf['time'] = pd.to_datetime(gdf['time'])\n",
    "\n",
    "# Perform spatial join to associate each earthquake with the corresponding tectonic plate\n",
    "gdf = gpd.sjoin(gdf, tectonic_plates, how='left', predicate='intersects', lsuffix='left', rsuffix='right')\n",
    "\n",
    "# Rename the column for clarity\n",
    "gdf.rename(columns={'PlateName': 'tectonic_plate'}, inplace=True)\n",
    "\n",
    "# Verify the results of the renaming\n",
    "print(\"Columns after renaming:\")\n",
    "display(gdf.columns)\n",
    "\n",
    "# Ensure 'time' column is still present\n",
    "if 'time' not in gdf.columns:\n",
    "    raise KeyError(\"'time' column is missing after spatial join\")\n",
    "\n",
    "# Ensure 'time' column is in datetime format\n",
    "gdf['time'] = pd.to_datetime(gdf['time'])\n"
   ]
  },
  {
   "cell_type": "code",
   "execution_count": null,
   "metadata": {},
   "outputs": [
    {
     "name": "stdout",
     "output_type": "stream",
     "text": [
      "<class 'geopandas.geodataframe.GeoDataFrame'>\n",
      "Index: 19586 entries, 0 to 19585\n",
      "Data columns (total 43 columns):\n",
      " #   Column           Non-Null Count  Dtype         \n",
      "---  ------           --------------  -----         \n",
      " 0   index            19586 non-null  int64         \n",
      " 1   type             19586 non-null  object        \n",
      " 2   id               19586 non-null  object        \n",
      " 3   mag              19586 non-null  float64       \n",
      " 4   place            19586 non-null  object        \n",
      " 5   time             19586 non-null  datetime64[ns]\n",
      " 6   updated          19586 non-null  int64         \n",
      " 7   tz               19586 non-null  int64         \n",
      " 8   url              19586 non-null  object        \n",
      " 9   detail           19586 non-null  object        \n",
      " 10  felt             19586 non-null  float64       \n",
      " 11  cdi              19586 non-null  float64       \n",
      " 12  mmi              19586 non-null  float64       \n",
      " 13  alert            19586 non-null  object        \n",
      " 14  status           19586 non-null  object        \n",
      " 15  tsunami          19586 non-null  int64         \n",
      " 16  sig              19586 non-null  int64         \n",
      " 17  net              19586 non-null  object        \n",
      " 18  code             19586 non-null  object        \n",
      " 19  ids              19586 non-null  object        \n",
      " 20  sources          19586 non-null  object        \n",
      " 21  types            19586 non-null  object        \n",
      " 22  nst              19586 non-null  float64       \n",
      " 23  dmin             19586 non-null  float64       \n",
      " 24  rms              19586 non-null  float64       \n",
      " 25  gap              19586 non-null  float64       \n",
      " 26  magType          19586 non-null  object        \n",
      " 27  title            19586 non-null  object        \n",
      " 28  latitude         19586 non-null  float64       \n",
      " 29  longitude        19586 non-null  float64       \n",
      " 30  depth            19586 non-null  float64       \n",
      " 31  geometry         19586 non-null  geometry      \n",
      " 32  index_right      19586 non-null  int64         \n",
      " 33  OBJECTID         19586 non-null  int32         \n",
      " 34  Code             19586 non-null  object        \n",
      " 35  tectonic_plate   19586 non-null  object        \n",
      " 36  Shape__Are       19586 non-null  float64       \n",
      " 37  Shape__Len       19586 non-null  float64       \n",
      " 38  time_since_last  19586 non-null  float64       \n",
      " 39  count_1m         19586 non-null  int64         \n",
      " 40  count_3m         19586 non-null  int64         \n",
      " 41  count_6m         19586 non-null  int64         \n",
      " 42  rolling_avg_3m   19586 non-null  float64       \n",
      "dtypes: datetime64[ns](1), float64(15), geometry(1), int32(1), int64(9), object(16)\n",
      "memory usage: 6.5+ MB\n",
      "None\n"
     ]
    },
    {
     "name": "stderr",
     "output_type": "stream",
     "text": [
      "C:\\Users\\thoma\\AppData\\Local\\Temp\\ipykernel_17796\\3226859112.py:13: FutureWarning: Downcasting object dtype arrays on .fillna, .ffill, .bfill is deprecated and will change in a future version. Call result.infer_objects(copy=False) instead. To opt-in to the future behavior, set `pd.set_option('future.no_silent_downcasting', True)`\n",
      "  gdf.fillna(0, inplace=True)\n"
     ]
    },
    {
     "name": "stdout",
     "output_type": "stream",
     "text": [
      "Data saved to C:\\Users\\thoma\\Documents\\GitHub\\USGS\\earthquake_data_with_plates.csv\n"
     ]
    }
   ],
   "source": [
    "# Calculate time since last significant earthquake within each tectonic plate\n",
    "gdf['time_since_last'] = gdf.groupby('tectonic_plate')['time'].diff().dt.days\n",
    "\n",
    "# Vectorized count of smaller earthquakes in past 1, 3, and 6 months within each tectonic plate\n",
    "gdf['count_1m'] = gdf.groupby('tectonic_plate')['time'].transform(lambda x: (x >= (x.max() - pd.Timedelta(days=30))).sum())\n",
    "gdf['count_3m'] = gdf.groupby('tectonic_plate')['time'].transform(lambda x: (x >= (x.max() - pd.Timedelta(days=90))).sum())\n",
    "gdf['count_6m'] = gdf.groupby('tectonic_plate')['time'].transform(lambda x: (x >= (x.max() - pd.Timedelta(days=180))).sum())\n",
    "\n",
    "# Rolling averages of seismic activity within each tectonic plate\n",
    "gdf['rolling_avg_3m'] = gdf.groupby('tectonic_plate')['mag'].transform(lambda x: x.rolling(window=90, min_periods=1).mean())\n",
    "\n",
    "# Fill NA values with appropriate values (e.g., 0 for counts)\n",
    "gdf.fillna(0, inplace=True)\n",
    "\n",
    "# Display DataFrame information\n",
    "print(gdf.info())\n",
    "\n",
    "# Save the updated GeoDataFrame to a CSV file at the specified location\n",
    "csv_file_path = r\"C:\\Users\\thoma\\Documents\\GitHub\\USGS\\earthquake_data_with_plates.csv\"\n",
    "gdf.to_csv(csv_file_path, index=False)\n",
    "\n",
    "print(f\"Data saved to {csv_file_path}\")"
   ]
  },
  {
   "cell_type": "code",
   "execution_count": null,
   "metadata": {},
   "outputs": [],
   "source": [
    "# Verify the results of the renaming\n",
    "#display(gdf.columns)\n",
    "#display(gdf.head())\n"
   ]
  },
  {
   "cell_type": "markdown",
   "metadata": {},
   "source": [
    "# Preprocess"
   ]
  },
  {
   "cell_type": "markdown",
   "metadata": {},
   "source": [
    "# Generate SARIMA Feature"
   ]
  },
  {
   "cell_type": "code",
   "execution_count": 7,
   "metadata": {},
   "outputs": [
    {
     "name": "stderr",
     "output_type": "stream",
     "text": [
      "C:\\Users\\thoma\\AppData\\Local\\Packages\\PythonSoftwareFoundation.Python.3.11_qbz5n2kfra8p0\\LocalCache\\local-packages\\Python311\\site-packages\\statsmodels\\tsa\\statespace\\sarimax.py:966: UserWarning: Non-stationary starting autoregressive parameters found. Using zeros as starting parameters.\n",
      "  warn('Non-stationary starting autoregressive parameters'\n",
      "C:\\Users\\thoma\\AppData\\Local\\Packages\\PythonSoftwareFoundation.Python.3.11_qbz5n2kfra8p0\\LocalCache\\local-packages\\Python311\\site-packages\\statsmodels\\tsa\\statespace\\sarimax.py:978: UserWarning: Non-invertible starting MA parameters found. Using zeros as starting parameters.\n",
      "  warn('Non-invertible starting MA parameters found.'\n",
      "C:\\Users\\thoma\\AppData\\Local\\Packages\\PythonSoftwareFoundation.Python.3.11_qbz5n2kfra8p0\\LocalCache\\local-packages\\Python311\\site-packages\\statsmodels\\tsa\\statespace\\sarimax.py:866: UserWarning: Too few observations to estimate starting parameters for seasonal ARMA. All parameters except for variances will be set to zeros.\n",
      "  warn('Too few observations to estimate starting parameters%s.'\n",
      "C:\\Users\\thoma\\AppData\\Local\\Packages\\PythonSoftwareFoundation.Python.3.11_qbz5n2kfra8p0\\LocalCache\\local-packages\\Python311\\site-packages\\statsmodels\\tsa\\statespace\\sarimax.py:866: UserWarning: Too few observations to estimate starting parameters for seasonal ARMA. All parameters except for variances will be set to zeros.\n",
      "  warn('Too few observations to estimate starting parameters%s.'\n",
      "C:\\Users\\thoma\\AppData\\Local\\Packages\\PythonSoftwareFoundation.Python.3.11_qbz5n2kfra8p0\\LocalCache\\local-packages\\Python311\\site-packages\\statsmodels\\tsa\\statespace\\sarimax.py:866: UserWarning: Too few observations to estimate starting parameters for seasonal ARMA. All parameters except for variances will be set to zeros.\n",
      "  warn('Too few observations to estimate starting parameters%s.'\n",
      "C:\\Users\\thoma\\AppData\\Local\\Packages\\PythonSoftwareFoundation.Python.3.11_qbz5n2kfra8p0\\LocalCache\\local-packages\\Python311\\site-packages\\statsmodels\\base\\model.py:607: ConvergenceWarning: Maximum Likelihood optimization failed to converge. Check mle_retvals\n",
      "  warnings.warn(\"Maximum Likelihood optimization failed to \"\n",
      "C:\\Users\\thoma\\AppData\\Local\\Packages\\PythonSoftwareFoundation.Python.3.11_qbz5n2kfra8p0\\LocalCache\\local-packages\\Python311\\site-packages\\statsmodels\\tsa\\statespace\\sarimax.py:866: UserWarning: Too few observations to estimate starting parameters for seasonal ARMA. All parameters except for variances will be set to zeros.\n",
      "  warn('Too few observations to estimate starting parameters%s.'\n",
      "C:\\Users\\thoma\\AppData\\Local\\Packages\\PythonSoftwareFoundation.Python.3.11_qbz5n2kfra8p0\\LocalCache\\local-packages\\Python311\\site-packages\\statsmodels\\base\\model.py:607: ConvergenceWarning: Maximum Likelihood optimization failed to converge. Check mle_retvals\n",
      "  warnings.warn(\"Maximum Likelihood optimization failed to \"\n",
      "C:\\Users\\thoma\\AppData\\Local\\Packages\\PythonSoftwareFoundation.Python.3.11_qbz5n2kfra8p0\\LocalCache\\local-packages\\Python311\\site-packages\\statsmodels\\tsa\\statespace\\sarimax.py:866: UserWarning: Too few observations to estimate starting parameters for seasonal ARMA. All parameters except for variances will be set to zeros.\n",
      "  warn('Too few observations to estimate starting parameters%s.'\n",
      "C:\\Users\\thoma\\AppData\\Local\\Packages\\PythonSoftwareFoundation.Python.3.11_qbz5n2kfra8p0\\LocalCache\\local-packages\\Python311\\site-packages\\statsmodels\\tsa\\statespace\\sarimax.py:866: UserWarning: Too few observations to estimate starting parameters for seasonal ARMA. All parameters except for variances will be set to zeros.\n",
      "  warn('Too few observations to estimate starting parameters%s.'\n",
      "C:\\Users\\thoma\\AppData\\Local\\Packages\\PythonSoftwareFoundation.Python.3.11_qbz5n2kfra8p0\\LocalCache\\local-packages\\Python311\\site-packages\\statsmodels\\tsa\\statespace\\sarimax.py:866: UserWarning: Too few observations to estimate starting parameters for seasonal ARMA. All parameters except for variances will be set to zeros.\n",
      "  warn('Too few observations to estimate starting parameters%s.'\n",
      "C:\\Users\\thoma\\AppData\\Local\\Packages\\PythonSoftwareFoundation.Python.3.11_qbz5n2kfra8p0\\LocalCache\\local-packages\\Python311\\site-packages\\statsmodels\\tsa\\statespace\\sarimax.py:866: UserWarning: Too few observations to estimate starting parameters for seasonal ARMA. All parameters except for variances will be set to zeros.\n",
      "  warn('Too few observations to estimate starting parameters%s.'\n",
      "C:\\Users\\thoma\\AppData\\Local\\Packages\\PythonSoftwareFoundation.Python.3.11_qbz5n2kfra8p0\\LocalCache\\local-packages\\Python311\\site-packages\\statsmodels\\base\\model.py:607: ConvergenceWarning: Maximum Likelihood optimization failed to converge. Check mle_retvals\n",
      "  warnings.warn(\"Maximum Likelihood optimization failed to \"\n",
      "C:\\Users\\thoma\\AppData\\Local\\Packages\\PythonSoftwareFoundation.Python.3.11_qbz5n2kfra8p0\\LocalCache\\local-packages\\Python311\\site-packages\\statsmodels\\tsa\\statespace\\sarimax.py:866: UserWarning: Too few observations to estimate starting parameters for seasonal ARMA. All parameters except for variances will be set to zeros.\n",
      "  warn('Too few observations to estimate starting parameters%s.'\n",
      "C:\\Users\\thoma\\AppData\\Local\\Packages\\PythonSoftwareFoundation.Python.3.11_qbz5n2kfra8p0\\LocalCache\\local-packages\\Python311\\site-packages\\statsmodels\\tsa\\statespace\\sarimax.py:866: UserWarning: Too few observations to estimate starting parameters for seasonal ARMA. All parameters except for variances will be set to zeros.\n",
      "  warn('Too few observations to estimate starting parameters%s.'\n",
      "C:\\Users\\thoma\\AppData\\Local\\Packages\\PythonSoftwareFoundation.Python.3.11_qbz5n2kfra8p0\\LocalCache\\local-packages\\Python311\\site-packages\\statsmodels\\tsa\\statespace\\sarimax.py:866: UserWarning: Too few observations to estimate starting parameters for seasonal ARMA. All parameters except for variances will be set to zeros.\n",
      "  warn('Too few observations to estimate starting parameters%s.'\n",
      "C:\\Users\\thoma\\AppData\\Local\\Packages\\PythonSoftwareFoundation.Python.3.11_qbz5n2kfra8p0\\LocalCache\\local-packages\\Python311\\site-packages\\statsmodels\\tsa\\statespace\\sarimax.py:866: UserWarning: Too few observations to estimate starting parameters for seasonal ARMA. All parameters except for variances will be set to zeros.\n",
      "  warn('Too few observations to estimate starting parameters%s.'\n",
      "C:\\Users\\thoma\\AppData\\Local\\Packages\\PythonSoftwareFoundation.Python.3.11_qbz5n2kfra8p0\\LocalCache\\local-packages\\Python311\\site-packages\\statsmodels\\tsa\\statespace\\sarimax.py:866: UserWarning: Too few observations to estimate starting parameters for seasonal ARMA. All parameters except for variances will be set to zeros.\n",
      "  warn('Too few observations to estimate starting parameters%s.'\n",
      "C:\\Users\\thoma\\AppData\\Local\\Packages\\PythonSoftwareFoundation.Python.3.11_qbz5n2kfra8p0\\LocalCache\\local-packages\\Python311\\site-packages\\statsmodels\\tsa\\statespace\\sarimax.py:866: UserWarning: Too few observations to estimate starting parameters for seasonal ARMA. All parameters except for variances will be set to zeros.\n",
      "  warn('Too few observations to estimate starting parameters%s.'\n",
      "C:\\Users\\thoma\\AppData\\Local\\Packages\\PythonSoftwareFoundation.Python.3.11_qbz5n2kfra8p0\\LocalCache\\local-packages\\Python311\\site-packages\\statsmodels\\tsa\\statespace\\sarimax.py:866: UserWarning: Too few observations to estimate starting parameters for seasonal ARMA. All parameters except for variances will be set to zeros.\n",
      "  warn('Too few observations to estimate starting parameters%s.'\n",
      "C:\\Users\\thoma\\AppData\\Local\\Packages\\PythonSoftwareFoundation.Python.3.11_qbz5n2kfra8p0\\LocalCache\\local-packages\\Python311\\site-packages\\statsmodels\\base\\model.py:607: ConvergenceWarning: Maximum Likelihood optimization failed to converge. Check mle_retvals\n",
      "  warnings.warn(\"Maximum Likelihood optimization failed to \"\n",
      "C:\\Users\\thoma\\AppData\\Local\\Packages\\PythonSoftwareFoundation.Python.3.11_qbz5n2kfra8p0\\LocalCache\\local-packages\\Python311\\site-packages\\statsmodels\\tsa\\statespace\\sarimax.py:978: UserWarning: Non-invertible starting MA parameters found. Using zeros as starting parameters.\n",
      "  warn('Non-invertible starting MA parameters found.'\n",
      "C:\\Users\\thoma\\AppData\\Local\\Packages\\PythonSoftwareFoundation.Python.3.11_qbz5n2kfra8p0\\LocalCache\\local-packages\\Python311\\site-packages\\statsmodels\\tsa\\statespace\\sarimax.py:866: UserWarning: Too few observations to estimate starting parameters for seasonal ARMA. All parameters except for variances will be set to zeros.\n",
      "  warn('Too few observations to estimate starting parameters%s.'\n",
      "C:\\Users\\thoma\\AppData\\Local\\Packages\\PythonSoftwareFoundation.Python.3.11_qbz5n2kfra8p0\\LocalCache\\local-packages\\Python311\\site-packages\\statsmodels\\tsa\\statespace\\sarimax.py:866: UserWarning: Too few observations to estimate starting parameters for seasonal ARMA. All parameters except for variances will be set to zeros.\n",
      "  warn('Too few observations to estimate starting parameters%s.'\n",
      "C:\\Users\\thoma\\AppData\\Local\\Packages\\PythonSoftwareFoundation.Python.3.11_qbz5n2kfra8p0\\LocalCache\\local-packages\\Python311\\site-packages\\statsmodels\\tsa\\statespace\\sarimax.py:866: UserWarning: Too few observations to estimate starting parameters for seasonal ARMA. All parameters except for variances will be set to zeros.\n",
      "  warn('Too few observations to estimate starting parameters%s.'\n",
      "C:\\Users\\thoma\\AppData\\Local\\Packages\\PythonSoftwareFoundation.Python.3.11_qbz5n2kfra8p0\\LocalCache\\local-packages\\Python311\\site-packages\\statsmodels\\tsa\\statespace\\sarimax.py:866: UserWarning: Too few observations to estimate starting parameters for seasonal ARMA. All parameters except for variances will be set to zeros.\n",
      "  warn('Too few observations to estimate starting parameters%s.'\n",
      "C:\\Users\\thoma\\AppData\\Local\\Packages\\PythonSoftwareFoundation.Python.3.11_qbz5n2kfra8p0\\LocalCache\\local-packages\\Python311\\site-packages\\statsmodels\\tsa\\statespace\\sarimax.py:866: UserWarning: Too few observations to estimate starting parameters for seasonal ARMA. All parameters except for variances will be set to zeros.\n",
      "  warn('Too few observations to estimate starting parameters%s.'\n",
      "C:\\Users\\thoma\\AppData\\Local\\Packages\\PythonSoftwareFoundation.Python.3.11_qbz5n2kfra8p0\\LocalCache\\local-packages\\Python311\\site-packages\\statsmodels\\base\\model.py:607: ConvergenceWarning: Maximum Likelihood optimization failed to converge. Check mle_retvals\n",
      "  warnings.warn(\"Maximum Likelihood optimization failed to \"\n",
      "C:\\Users\\thoma\\AppData\\Local\\Packages\\PythonSoftwareFoundation.Python.3.11_qbz5n2kfra8p0\\LocalCache\\local-packages\\Python311\\site-packages\\statsmodels\\tsa\\statespace\\sarimax.py:866: UserWarning: Too few observations to estimate starting parameters for seasonal ARMA. All parameters except for variances will be set to zeros.\n",
      "  warn('Too few observations to estimate starting parameters%s.'\n",
      "C:\\Users\\thoma\\AppData\\Local\\Packages\\PythonSoftwareFoundation.Python.3.11_qbz5n2kfra8p0\\LocalCache\\local-packages\\Python311\\site-packages\\statsmodels\\base\\model.py:607: ConvergenceWarning: Maximum Likelihood optimization failed to converge. Check mle_retvals\n",
      "  warnings.warn(\"Maximum Likelihood optimization failed to \"\n",
      "C:\\Users\\thoma\\AppData\\Local\\Packages\\PythonSoftwareFoundation.Python.3.11_qbz5n2kfra8p0\\LocalCache\\local-packages\\Python311\\site-packages\\statsmodels\\tsa\\statespace\\sarimax.py:866: UserWarning: Too few observations to estimate starting parameters for seasonal ARMA. All parameters except for variances will be set to zeros.\n",
      "  warn('Too few observations to estimate starting parameters%s.'\n",
      "C:\\Users\\thoma\\AppData\\Local\\Packages\\PythonSoftwareFoundation.Python.3.11_qbz5n2kfra8p0\\LocalCache\\local-packages\\Python311\\site-packages\\statsmodels\\tsa\\statespace\\sarimax.py:978: UserWarning: Non-invertible starting MA parameters found. Using zeros as starting parameters.\n",
      "  warn('Non-invertible starting MA parameters found.'\n",
      "C:\\Users\\thoma\\AppData\\Local\\Packages\\PythonSoftwareFoundation.Python.3.11_qbz5n2kfra8p0\\LocalCache\\local-packages\\Python311\\site-packages\\statsmodels\\tsa\\statespace\\sarimax.py:866: UserWarning: Too few observations to estimate starting parameters for seasonal ARMA. All parameters except for variances will be set to zeros.\n",
      "  warn('Too few observations to estimate starting parameters%s.'\n",
      "C:\\Users\\thoma\\AppData\\Local\\Packages\\PythonSoftwareFoundation.Python.3.11_qbz5n2kfra8p0\\LocalCache\\local-packages\\Python311\\site-packages\\statsmodels\\tsa\\statespace\\sarimax.py:866: UserWarning: Too few observations to estimate starting parameters for seasonal ARMA. All parameters except for variances will be set to zeros.\n",
      "  warn('Too few observations to estimate starting parameters%s.'\n",
      "C:\\Users\\thoma\\AppData\\Local\\Packages\\PythonSoftwareFoundation.Python.3.11_qbz5n2kfra8p0\\LocalCache\\local-packages\\Python311\\site-packages\\statsmodels\\base\\model.py:607: ConvergenceWarning: Maximum Likelihood optimization failed to converge. Check mle_retvals\n",
      "  warnings.warn(\"Maximum Likelihood optimization failed to \"\n",
      "C:\\Users\\thoma\\AppData\\Local\\Packages\\PythonSoftwareFoundation.Python.3.11_qbz5n2kfra8p0\\LocalCache\\local-packages\\Python311\\site-packages\\statsmodels\\tsa\\statespace\\sarimax.py:866: UserWarning: Too few observations to estimate starting parameters for seasonal ARMA. All parameters except for variances will be set to zeros.\n",
      "  warn('Too few observations to estimate starting parameters%s.'\n",
      "C:\\Users\\thoma\\AppData\\Local\\Packages\\PythonSoftwareFoundation.Python.3.11_qbz5n2kfra8p0\\LocalCache\\local-packages\\Python311\\site-packages\\statsmodels\\tsa\\statespace\\sarimax.py:866: UserWarning: Too few observations to estimate starting parameters for seasonal ARMA. All parameters except for variances will be set to zeros.\n",
      "  warn('Too few observations to estimate starting parameters%s.'\n",
      "C:\\Users\\thoma\\AppData\\Local\\Packages\\PythonSoftwareFoundation.Python.3.11_qbz5n2kfra8p0\\LocalCache\\local-packages\\Python311\\site-packages\\statsmodels\\tsa\\statespace\\sarimax.py:866: UserWarning: Too few observations to estimate starting parameters for seasonal ARMA. All parameters except for variances will be set to zeros.\n",
      "  warn('Too few observations to estimate starting parameters%s.'\n",
      "C:\\Users\\thoma\\AppData\\Local\\Packages\\PythonSoftwareFoundation.Python.3.11_qbz5n2kfra8p0\\LocalCache\\local-packages\\Python311\\site-packages\\statsmodels\\tsa\\statespace\\sarimax.py:866: UserWarning: Too few observations to estimate starting parameters for seasonal ARMA. All parameters except for variances will be set to zeros.\n",
      "  warn('Too few observations to estimate starting parameters%s.'\n",
      "C:\\Users\\thoma\\AppData\\Local\\Packages\\PythonSoftwareFoundation.Python.3.11_qbz5n2kfra8p0\\LocalCache\\local-packages\\Python311\\site-packages\\statsmodels\\base\\model.py:607: ConvergenceWarning: Maximum Likelihood optimization failed to converge. Check mle_retvals\n",
      "  warnings.warn(\"Maximum Likelihood optimization failed to \"\n",
      "C:\\Users\\thoma\\AppData\\Local\\Packages\\PythonSoftwareFoundation.Python.3.11_qbz5n2kfra8p0\\LocalCache\\local-packages\\Python311\\site-packages\\statsmodels\\tsa\\statespace\\sarimax.py:866: UserWarning: Too few observations to estimate starting parameters for seasonal ARMA. All parameters except for variances will be set to zeros.\n",
      "  warn('Too few observations to estimate starting parameters%s.'\n",
      "C:\\Users\\thoma\\AppData\\Local\\Packages\\PythonSoftwareFoundation.Python.3.11_qbz5n2kfra8p0\\LocalCache\\local-packages\\Python311\\site-packages\\statsmodels\\tsa\\statespace\\sarimax.py:866: UserWarning: Too few observations to estimate starting parameters for seasonal ARMA. All parameters except for variances will be set to zeros.\n",
      "  warn('Too few observations to estimate starting parameters%s.'\n",
      "C:\\Users\\thoma\\AppData\\Local\\Packages\\PythonSoftwareFoundation.Python.3.11_qbz5n2kfra8p0\\LocalCache\\local-packages\\Python311\\site-packages\\statsmodels\\tsa\\statespace\\sarimax.py:866: UserWarning: Too few observations to estimate starting parameters for seasonal ARMA. All parameters except for variances will be set to zeros.\n",
      "  warn('Too few observations to estimate starting parameters%s.'\n",
      "C:\\Users\\thoma\\AppData\\Local\\Packages\\PythonSoftwareFoundation.Python.3.11_qbz5n2kfra8p0\\LocalCache\\local-packages\\Python311\\site-packages\\statsmodels\\tsa\\statespace\\sarimax.py:978: UserWarning: Non-invertible starting MA parameters found. Using zeros as starting parameters.\n",
      "  warn('Non-invertible starting MA parameters found.'\n",
      "C:\\Users\\thoma\\AppData\\Local\\Packages\\PythonSoftwareFoundation.Python.3.11_qbz5n2kfra8p0\\LocalCache\\local-packages\\Python311\\site-packages\\statsmodels\\tsa\\statespace\\sarimax.py:866: UserWarning: Too few observations to estimate starting parameters for seasonal ARMA. All parameters except for variances will be set to zeros.\n",
      "  warn('Too few observations to estimate starting parameters%s.'\n",
      "C:\\Users\\thoma\\AppData\\Local\\Packages\\PythonSoftwareFoundation.Python.3.11_qbz5n2kfra8p0\\LocalCache\\local-packages\\Python311\\site-packages\\statsmodels\\tsa\\statespace\\sarimax.py:866: UserWarning: Too few observations to estimate starting parameters for seasonal ARMA. All parameters except for variances will be set to zeros.\n",
      "  warn('Too few observations to estimate starting parameters%s.'\n",
      "C:\\Users\\thoma\\AppData\\Local\\Packages\\PythonSoftwareFoundation.Python.3.11_qbz5n2kfra8p0\\LocalCache\\local-packages\\Python311\\site-packages\\statsmodels\\base\\model.py:607: ConvergenceWarning: Maximum Likelihood optimization failed to converge. Check mle_retvals\n",
      "  warnings.warn(\"Maximum Likelihood optimization failed to \"\n",
      "C:\\Users\\thoma\\AppData\\Local\\Packages\\PythonSoftwareFoundation.Python.3.11_qbz5n2kfra8p0\\LocalCache\\local-packages\\Python311\\site-packages\\statsmodels\\tsa\\statespace\\sarimax.py:866: UserWarning: Too few observations to estimate starting parameters for seasonal ARMA. All parameters except for variances will be set to zeros.\n",
      "  warn('Too few observations to estimate starting parameters%s.'\n",
      "C:\\Users\\thoma\\AppData\\Local\\Packages\\PythonSoftwareFoundation.Python.3.11_qbz5n2kfra8p0\\LocalCache\\local-packages\\Python311\\site-packages\\statsmodels\\tsa\\statespace\\sarimax.py:866: UserWarning: Too few observations to estimate starting parameters for seasonal ARMA. All parameters except for variances will be set to zeros.\n",
      "  warn('Too few observations to estimate starting parameters%s.'\n",
      "C:\\Users\\thoma\\AppData\\Local\\Packages\\PythonSoftwareFoundation.Python.3.11_qbz5n2kfra8p0\\LocalCache\\local-packages\\Python311\\site-packages\\statsmodels\\base\\model.py:607: ConvergenceWarning: Maximum Likelihood optimization failed to converge. Check mle_retvals\n",
      "  warnings.warn(\"Maximum Likelihood optimization failed to \"\n",
      "C:\\Users\\thoma\\AppData\\Local\\Packages\\PythonSoftwareFoundation.Python.3.11_qbz5n2kfra8p0\\LocalCache\\local-packages\\Python311\\site-packages\\statsmodels\\tsa\\statespace\\sarimax.py:866: UserWarning: Too few observations to estimate starting parameters for seasonal ARMA. All parameters except for variances will be set to zeros.\n",
      "  warn('Too few observations to estimate starting parameters%s.'\n",
      "C:\\Users\\thoma\\AppData\\Local\\Packages\\PythonSoftwareFoundation.Python.3.11_qbz5n2kfra8p0\\LocalCache\\local-packages\\Python311\\site-packages\\statsmodels\\tsa\\statespace\\sarimax.py:866: UserWarning: Too few observations to estimate starting parameters for seasonal ARMA. All parameters except for variances will be set to zeros.\n",
      "  warn('Too few observations to estimate starting parameters%s.'\n",
      "C:\\Users\\thoma\\AppData\\Local\\Packages\\PythonSoftwareFoundation.Python.3.11_qbz5n2kfra8p0\\LocalCache\\local-packages\\Python311\\site-packages\\statsmodels\\tsa\\statespace\\sarimax.py:866: UserWarning: Too few observations to estimate starting parameters for seasonal ARMA. All parameters except for variances will be set to zeros.\n",
      "  warn('Too few observations to estimate starting parameters%s.'\n",
      "C:\\Users\\thoma\\AppData\\Local\\Packages\\PythonSoftwareFoundation.Python.3.11_qbz5n2kfra8p0\\LocalCache\\local-packages\\Python311\\site-packages\\statsmodels\\tsa\\statespace\\sarimax.py:866: UserWarning: Too few observations to estimate starting parameters for seasonal ARMA. All parameters except for variances will be set to zeros.\n",
      "  warn('Too few observations to estimate starting parameters%s.'\n",
      "C:\\Users\\thoma\\AppData\\Local\\Packages\\PythonSoftwareFoundation.Python.3.11_qbz5n2kfra8p0\\LocalCache\\local-packages\\Python311\\site-packages\\statsmodels\\base\\model.py:607: ConvergenceWarning: Maximum Likelihood optimization failed to converge. Check mle_retvals\n",
      "  warnings.warn(\"Maximum Likelihood optimization failed to \"\n",
      "C:\\Users\\thoma\\AppData\\Local\\Packages\\PythonSoftwareFoundation.Python.3.11_qbz5n2kfra8p0\\LocalCache\\local-packages\\Python311\\site-packages\\statsmodels\\tsa\\statespace\\sarimax.py:866: UserWarning: Too few observations to estimate starting parameters for seasonal ARMA. All parameters except for variances will be set to zeros.\n",
      "  warn('Too few observations to estimate starting parameters%s.'\n",
      "C:\\Users\\thoma\\AppData\\Local\\Packages\\PythonSoftwareFoundation.Python.3.11_qbz5n2kfra8p0\\LocalCache\\local-packages\\Python311\\site-packages\\statsmodels\\tsa\\statespace\\sarimax.py:866: UserWarning: Too few observations to estimate starting parameters for seasonal ARMA. All parameters except for variances will be set to zeros.\n",
      "  warn('Too few observations to estimate starting parameters%s.'\n",
      "C:\\Users\\thoma\\AppData\\Local\\Packages\\PythonSoftwareFoundation.Python.3.11_qbz5n2kfra8p0\\LocalCache\\local-packages\\Python311\\site-packages\\statsmodels\\tsa\\statespace\\sarimax.py:866: UserWarning: Too few observations to estimate starting parameters for seasonal ARMA. All parameters except for variances will be set to zeros.\n",
      "  warn('Too few observations to estimate starting parameters%s.'\n",
      "C:\\Users\\thoma\\AppData\\Local\\Packages\\PythonSoftwareFoundation.Python.3.11_qbz5n2kfra8p0\\LocalCache\\local-packages\\Python311\\site-packages\\statsmodels\\tsa\\statespace\\sarimax.py:866: UserWarning: Too few observations to estimate starting parameters for seasonal ARMA. All parameters except for variances will be set to zeros.\n",
      "  warn('Too few observations to estimate starting parameters%s.'\n",
      "C:\\Users\\thoma\\AppData\\Local\\Packages\\PythonSoftwareFoundation.Python.3.11_qbz5n2kfra8p0\\LocalCache\\local-packages\\Python311\\site-packages\\statsmodels\\tsa\\statespace\\sarimax.py:866: UserWarning: Too few observations to estimate starting parameters for seasonal ARMA. All parameters except for variances will be set to zeros.\n",
      "  warn('Too few observations to estimate starting parameters%s.'\n",
      "C:\\Users\\thoma\\AppData\\Local\\Packages\\PythonSoftwareFoundation.Python.3.11_qbz5n2kfra8p0\\LocalCache\\local-packages\\Python311\\site-packages\\statsmodels\\base\\model.py:607: ConvergenceWarning: Maximum Likelihood optimization failed to converge. Check mle_retvals\n",
      "  warnings.warn(\"Maximum Likelihood optimization failed to \"\n",
      "C:\\Users\\thoma\\AppData\\Local\\Packages\\PythonSoftwareFoundation.Python.3.11_qbz5n2kfra8p0\\LocalCache\\local-packages\\Python311\\site-packages\\statsmodels\\tsa\\statespace\\sarimax.py:966: UserWarning: Non-stationary starting autoregressive parameters found. Using zeros as starting parameters.\n",
      "  warn('Non-stationary starting autoregressive parameters'\n",
      "C:\\Users\\thoma\\AppData\\Local\\Packages\\PythonSoftwareFoundation.Python.3.11_qbz5n2kfra8p0\\LocalCache\\local-packages\\Python311\\site-packages\\statsmodels\\tsa\\statespace\\sarimax.py:866: UserWarning: Too few observations to estimate starting parameters for seasonal ARMA. All parameters except for variances will be set to zeros.\n",
      "  warn('Too few observations to estimate starting parameters%s.'\n",
      "C:\\Users\\thoma\\AppData\\Local\\Packages\\PythonSoftwareFoundation.Python.3.11_qbz5n2kfra8p0\\LocalCache\\local-packages\\Python311\\site-packages\\statsmodels\\tsa\\statespace\\sarimax.py:978: UserWarning: Non-invertible starting MA parameters found. Using zeros as starting parameters.\n",
      "  warn('Non-invertible starting MA parameters found.'\n",
      "C:\\Users\\thoma\\AppData\\Local\\Packages\\PythonSoftwareFoundation.Python.3.11_qbz5n2kfra8p0\\LocalCache\\local-packages\\Python311\\site-packages\\statsmodels\\tsa\\statespace\\sarimax.py:866: UserWarning: Too few observations to estimate starting parameters for seasonal ARMA. All parameters except for variances will be set to zeros.\n",
      "  warn('Too few observations to estimate starting parameters%s.'\n",
      "C:\\Users\\thoma\\AppData\\Local\\Packages\\PythonSoftwareFoundation.Python.3.11_qbz5n2kfra8p0\\LocalCache\\local-packages\\Python311\\site-packages\\statsmodels\\tsa\\statespace\\sarimax.py:866: UserWarning: Too few observations to estimate starting parameters for seasonal ARMA. All parameters except for variances will be set to zeros.\n",
      "  warn('Too few observations to estimate starting parameters%s.'\n",
      "C:\\Users\\thoma\\AppData\\Local\\Packages\\PythonSoftwareFoundation.Python.3.11_qbz5n2kfra8p0\\LocalCache\\local-packages\\Python311\\site-packages\\statsmodels\\tsa\\statespace\\sarimax.py:866: UserWarning: Too few observations to estimate starting parameters for seasonal ARMA. All parameters except for variances will be set to zeros.\n",
      "  warn('Too few observations to estimate starting parameters%s.'\n",
      "C:\\Users\\thoma\\AppData\\Local\\Packages\\PythonSoftwareFoundation.Python.3.11_qbz5n2kfra8p0\\LocalCache\\local-packages\\Python311\\site-packages\\statsmodels\\base\\model.py:607: ConvergenceWarning: Maximum Likelihood optimization failed to converge. Check mle_retvals\n",
      "  warnings.warn(\"Maximum Likelihood optimization failed to \"\n",
      "C:\\Users\\thoma\\AppData\\Local\\Packages\\PythonSoftwareFoundation.Python.3.11_qbz5n2kfra8p0\\LocalCache\\local-packages\\Python311\\site-packages\\statsmodels\\tsa\\statespace\\sarimax.py:978: UserWarning: Non-invertible starting MA parameters found. Using zeros as starting parameters.\n",
      "  warn('Non-invertible starting MA parameters found.'\n",
      "C:\\Users\\thoma\\AppData\\Local\\Packages\\PythonSoftwareFoundation.Python.3.11_qbz5n2kfra8p0\\LocalCache\\local-packages\\Python311\\site-packages\\statsmodels\\tsa\\statespace\\sarimax.py:866: UserWarning: Too few observations to estimate starting parameters for seasonal ARMA. All parameters except for variances will be set to zeros.\n",
      "  warn('Too few observations to estimate starting parameters%s.'\n",
      "C:\\Users\\thoma\\AppData\\Local\\Packages\\PythonSoftwareFoundation.Python.3.11_qbz5n2kfra8p0\\LocalCache\\local-packages\\Python311\\site-packages\\statsmodels\\tsa\\statespace\\sarimax.py:866: UserWarning: Too few observations to estimate starting parameters for seasonal ARMA. All parameters except for variances will be set to zeros.\n",
      "  warn('Too few observations to estimate starting parameters%s.'\n",
      "C:\\Users\\thoma\\AppData\\Local\\Packages\\PythonSoftwareFoundation.Python.3.11_qbz5n2kfra8p0\\LocalCache\\local-packages\\Python311\\site-packages\\statsmodels\\tsa\\statespace\\sarimax.py:866: UserWarning: Too few observations to estimate starting parameters for seasonal ARMA. All parameters except for variances will be set to zeros.\n",
      "  warn('Too few observations to estimate starting parameters%s.'\n",
      "C:\\Users\\thoma\\AppData\\Local\\Packages\\PythonSoftwareFoundation.Python.3.11_qbz5n2kfra8p0\\LocalCache\\local-packages\\Python311\\site-packages\\statsmodels\\tsa\\statespace\\sarimax.py:866: UserWarning: Too few observations to estimate starting parameters for seasonal ARMA. All parameters except for variances will be set to zeros.\n",
      "  warn('Too few observations to estimate starting parameters%s.'\n",
      "C:\\Users\\thoma\\AppData\\Local\\Temp\\ipykernel_17796\\2222047889.py:20: FutureWarning: A value is trying to be set on a copy of a DataFrame or Series through chained assignment using an inplace method.\n",
      "The behavior will change in pandas 3.0. This inplace method will never work because the intermediate object on which we are setting values always behaves as a copy.\n",
      "\n",
      "For example, when doing 'df[col].method(value, inplace=True)', try using 'df.method({col: value}, inplace=True)' or df[col] = df[col].method(value) instead, to perform the operation inplace on the original object.\n",
      "\n",
      "\n",
      "  gdf['sarima_forecast'].fillna(0, inplace=True)\n"
     ]
    }
   ],
   "source": [
    "# Prepare Time Series Data for SARIMA\n",
    "# Aggregate earthquake data by month for each tectonic plate\n",
    "gdf['year_month'] = gdf['time'].dt.to_period('M')\n",
    "monthly_counts = gdf.groupby(['tectonic_plate', 'year_month']).size().unstack(fill_value=0)\n",
    "\n",
    "# Fit SARIMA model for each tectonic plate\n",
    "sarima_forecasts = {}\n",
    "for plate in monthly_counts.index:\n",
    "    ts_data = monthly_counts.loc[plate]\n",
    "    model = SARIMAX(ts_data, order=(1, 1, 1), seasonal_order=(1, 1, 1, 12))\n",
    "    results = model.fit(disp=False)\n",
    "    forecast = results.get_forecast(steps=12)  # Forecast next 12 months\n",
    "    sarima_forecasts[plate] = forecast.predicted_mean\n",
    "\n",
    "# Add SARIMA forecast as a new feature\n",
    "for plate, forecast in sarima_forecasts.items():\n",
    "    gdf.loc[gdf['tectonic_plate'] == plate, 'sarima_forecast'] = forecast.values[-1]\n",
    "\n",
    "# Ensure SARIMA forecast feature is filled for all rows\n",
    "gdf['sarima_forecast'].fillna(0, inplace=True)"
   ]
  },
  {
   "cell_type": "markdown",
   "metadata": {},
   "source": [
    "# Generate Target Prediction"
   ]
  },
  {
   "cell_type": "code",
   "execution_count": 8,
   "metadata": {},
   "outputs": [],
   "source": [
    "# Threshold magnitude for earthquake\n",
    "#threshold_magnitude = 6.0 \n",
    "\n",
    "# Define the function to create the target variable for training\n",
    "#def create_training_target(df, threshold_magnitude):\n",
    "#    df['target_next_month'] = df['mag'].apply(lambda x: 1 if x >= threshold_magnitude else 0)\n",
    "#    return df\n",
    "\n",
    "# Apply the function to create the target variable for training\n",
    "#gdf = create_training_target(gdf, threshold_magnitude)\n"
   ]
  },
  {
   "cell_type": "code",
   "execution_count": null,
   "metadata": {},
   "outputs": [],
   "source": [
    "\n"
   ]
  },
  {
   "cell_type": "markdown",
   "metadata": {},
   "source": [
    "# EDA"
   ]
  },
  {
   "cell_type": "code",
   "execution_count": 9,
   "metadata": {},
   "outputs": [
    {
     "data": {
      "image/png": "[encoded data removed]",
      "text/plain": [
       "<Figure size 1200x800 with 4 Axes>"
      ]
     },
     "metadata": {},
     "output_type": "display_data"
    }
   ],
   "source": [
    "from statsmodels.tsa.seasonal import seasonal_decompose\n",
    "# Convert 'time' column to datetime if not already\n",
    "gdf['time'] = pd.to_datetime(gdf['time'], errors='coerce')\n",
    "\n",
    "# Aggregate earthquake data by month\n",
    "gdf['year_month'] = gdf['time'].dt.to_period('M')\n",
    "monthly_counts = gdf.groupby('year_month').size()\n",
    "\n",
    "# Ensure the data is sorted by time\n",
    "monthly_counts = monthly_counts.sort_index()\n",
    "\n",
    "# Convert PeriodIndex to DatetimeIndex for plotting\n",
    "monthly_counts.index = monthly_counts.index.to_timestamp()\n",
    "\n",
    "# Specify the period (e.g., 12 for monthly data)\n",
    "decomposition = seasonal_decompose(monthly_counts, model='additive', period=12)\n",
    "\n",
    "# Extract the components\n",
    "trend = decomposition.trend\n",
    "seasonal = decomposition.seasonal\n",
    "residual = decomposition.resid\n",
    "\n",
    "# Plot the decomposed components\n",
    "plt.figure(figsize=(12, 8))\n",
    "plt.subplot(411)\n",
    "plt.plot(monthly_counts, label='Original')\n",
    "plt.legend(loc='best')\n",
    "plt.subplot(412)\n",
    "plt.plot(trend, label='Trend')\n",
    "plt.legend(loc='best')\n",
    "plt.subplot(413)\n",
    "plt.plot(seasonal, label='Seasonality')\n",
    "plt.legend(loc='best')\n",
    "plt.subplot(414)\n",
    "plt.plot(residual, label='Residuals')\n",
    "plt.legend(loc='best')\n",
    "plt.tight_layout()\n",
    "plt.show()\n",
    "\n"
   ]
  },
  {
   "cell_type": "code",
   "execution_count": 10,
   "metadata": {},
   "outputs": [
    {
     "data": {
      "text/html": [
       "<div>\n",
       "<style scoped>\n",
       "    .dataframe tbody tr th:only-of-type {\n",
       "        vertical-align: middle;\n",
       "    }\n",
       "\n",
       "    .dataframe tbody tr th {\n",
       "        vertical-align: top;\n",
       "    }\n",
       "\n",
       "    .dataframe thead th {\n",
       "        text-align: right;\n",
       "    }\n",
       "</style>\n",
       "<table border=\"1\" class=\"dataframe\">\n",
       "  <thead>\n",
       "    <tr style=\"text-align: right;\">\n",
       "      <th></th>\n",
       "      <th>magType</th>\n",
       "      <th>magType_encoded</th>\n",
       "    </tr>\n",
       "  </thead>\n",
       "  <tbody>\n",
       "    <tr>\n",
       "      <th>0</th>\n",
       "      <td>mww</td>\n",
       "      <td>10</td>\n",
       "    </tr>\n",
       "    <tr>\n",
       "      <th>1</th>\n",
       "      <td>mb</td>\n",
       "      <td>1</td>\n",
       "    </tr>\n",
       "    <tr>\n",
       "      <th>2</th>\n",
       "      <td>mb</td>\n",
       "      <td>1</td>\n",
       "    </tr>\n",
       "    <tr>\n",
       "      <th>3</th>\n",
       "      <td>mb</td>\n",
       "      <td>1</td>\n",
       "    </tr>\n",
       "    <tr>\n",
       "      <th>4</th>\n",
       "      <td>mb</td>\n",
       "      <td>1</td>\n",
       "    </tr>\n",
       "  </tbody>\n",
       "</table>\n",
       "</div>"
      ],
      "text/plain": [
       "  magType  magType_encoded\n",
       "0     mww               10\n",
       "1      mb                1\n",
       "2      mb                1\n",
       "3      mb                1\n",
       "4      mb                1"
      ]
     },
     "metadata": {},
     "output_type": "display_data"
    },
    {
     "data": {
      "text/html": [
       "<div>\n",
       "<style scoped>\n",
       "    .dataframe tbody tr th:only-of-type {\n",
       "        vertical-align: middle;\n",
       "    }\n",
       "\n",
       "    .dataframe tbody tr th {\n",
       "        vertical-align: top;\n",
       "    }\n",
       "\n",
       "    .dataframe thead th {\n",
       "        text-align: right;\n",
       "    }\n",
       "</style>\n",
       "<table border=\"1\" class=\"dataframe\">\n",
       "  <thead>\n",
       "    <tr style=\"text-align: right;\">\n",
       "      <th></th>\n",
       "      <th>tectonic_plate</th>\n",
       "      <th>tectonic_plate_encoded</th>\n",
       "    </tr>\n",
       "  </thead>\n",
       "  <tbody>\n",
       "    <tr>\n",
       "      <th>0</th>\n",
       "      <td>North America</td>\n",
       "      <td>32</td>\n",
       "    </tr>\n",
       "    <tr>\n",
       "      <th>1</th>\n",
       "      <td>Eurasia</td>\n",
       "      <td>18</td>\n",
       "    </tr>\n",
       "    <tr>\n",
       "      <th>2</th>\n",
       "      <td>Africa</td>\n",
       "      <td>2</td>\n",
       "    </tr>\n",
       "    <tr>\n",
       "      <th>3</th>\n",
       "      <td>Timor</td>\n",
       "      <td>49</td>\n",
       "    </tr>\n",
       "    <tr>\n",
       "      <th>4</th>\n",
       "      <td>Sunda</td>\n",
       "      <td>48</td>\n",
       "    </tr>\n",
       "  </tbody>\n",
       "</table>\n",
       "</div>"
      ],
      "text/plain": [
       "  tectonic_plate  tectonic_plate_encoded\n",
       "0  North America                      32\n",
       "1        Eurasia                      18\n",
       "2         Africa                       2\n",
       "3          Timor                      49\n",
       "4          Sunda                      48"
      ]
     },
     "metadata": {},
     "output_type": "display_data"
    }
   ],
   "source": [
    "# Encode 'magType'\n",
    "if 'magType' in gdf.columns:\n",
    "    unique_magtypes = sorted(gdf['magType'].unique())\n",
    "    magtype_mapping = {magtype: i+1 for i, magtype in enumerate(unique_magtypes)}\n",
    "    gdf['magType_encoded'] = gdf['magType'].map(magtype_mapping)\n",
    "    display(gdf[['magType', 'magType_encoded']].head())\n",
    "else:\n",
    "    print(\"'magType' column not found in the DataFrame.\")\n",
    "\n",
    "# Encode 'tectonic_plate'\n",
    "if 'tectonic_plate' in gdf.columns:\n",
    "    unique_plates = sorted(gdf['tectonic_plate'].unique())\n",
    "    plate_mapping = {plate: i+1 for i, plate in enumerate(unique_plates)}\n",
    "    gdf['tectonic_plate_encoded'] = gdf['tectonic_plate'].map(plate_mapping)\n",
    "    display(gdf[['tectonic_plate', 'tectonic_plate_encoded']].head())\n",
    "else:\n",
    "    print(\"'tectonic_plate' column not found in the DataFrame.\")\n",
    "\n",
    "# Display updated DataFrame information\n",
    "#display(gdf.columns)"
   ]
  },
  {
   "cell_type": "code",
   "execution_count": 11,
   "metadata": {},
   "outputs": [],
   "source": [
    "# Ensure the 'magType' column is available\n",
    "#if 'magType' in df.columns:\n",
    "    # Create a sorted list of unique 'magType' values\n",
    "#    unique_magtypes = sorted(df['magType'].unique())\n",
    "    \n",
    "    # Create a mapping from unique 'magType' values to integers\n",
    "#    magtype_mapping = {magtype: i+1 for i, magtype in enumerate(unique_magtypes)}\n",
    "    \n",
    "    # Map 'magType' to corresponding integers\n",
    "#    df['magType_encoded'] = df['magType'].map(magtype_mapping)\n",
    "    \n",
    "#else:\n",
    "#    print(\"'magType' column not found in the DataFrame.\")\n",
    "\n",
    "\n",
    "# Display updated DataFrame information\n",
    "#display(gdf.columns)\n",
    "#display(gdf.info())"
   ]
  },
  {
   "cell_type": "code",
   "execution_count": 12,
   "metadata": {},
   "outputs": [
    {
     "data": {
      "text/html": [
       "<div>\n",
       "<style scoped>\n",
       "    .dataframe tbody tr th:only-of-type {\n",
       "        vertical-align: middle;\n",
       "    }\n",
       "\n",
       "    .dataframe tbody tr th {\n",
       "        vertical-align: top;\n",
       "    }\n",
       "\n",
       "    .dataframe thead th {\n",
       "        text-align: right;\n",
       "    }\n",
       "</style>\n",
       "<table border=\"1\" class=\"dataframe\">\n",
       "  <thead>\n",
       "    <tr style=\"text-align: right;\">\n",
       "      <th></th>\n",
       "      <th>time</th>\n",
       "      <th>mag</th>\n",
       "      <th>target_prediction</th>\n",
       "    </tr>\n",
       "  </thead>\n",
       "  <tbody>\n",
       "    <tr>\n",
       "      <th>0</th>\n",
       "      <td>2025-02-27 21:48:30.442</td>\n",
       "      <td>5.0</td>\n",
       "      <td>0</td>\n",
       "    </tr>\n",
       "    <tr>\n",
       "      <th>1</th>\n",
       "      <td>2025-02-27 21:06:10.273</td>\n",
       "      <td>5.5</td>\n",
       "      <td>0</td>\n",
       "    </tr>\n",
       "    <tr>\n",
       "      <th>2</th>\n",
       "      <td>2025-02-27 20:00:42.970</td>\n",
       "      <td>5.0</td>\n",
       "      <td>0</td>\n",
       "    </tr>\n",
       "    <tr>\n",
       "      <th>3</th>\n",
       "      <td>2025-02-27 15:52:59.020</td>\n",
       "      <td>5.1</td>\n",
       "      <td>0</td>\n",
       "    </tr>\n",
       "    <tr>\n",
       "      <th>4</th>\n",
       "      <td>2025-02-27 15:30:42.635</td>\n",
       "      <td>4.7</td>\n",
       "      <td>0</td>\n",
       "    </tr>\n",
       "    <tr>\n",
       "      <th>5</th>\n",
       "      <td>2025-02-27 14:54:37.188</td>\n",
       "      <td>5.5</td>\n",
       "      <td>0</td>\n",
       "    </tr>\n",
       "    <tr>\n",
       "      <th>6</th>\n",
       "      <td>2025-02-27 13:26:39.271</td>\n",
       "      <td>4.8</td>\n",
       "      <td>0</td>\n",
       "    </tr>\n",
       "    <tr>\n",
       "      <th>7</th>\n",
       "      <td>2025-02-27 10:23:25.016</td>\n",
       "      <td>4.5</td>\n",
       "      <td>0</td>\n",
       "    </tr>\n",
       "    <tr>\n",
       "      <th>8</th>\n",
       "      <td>2025-02-27 08:27:47.775</td>\n",
       "      <td>4.7</td>\n",
       "      <td>0</td>\n",
       "    </tr>\n",
       "    <tr>\n",
       "      <th>9</th>\n",
       "      <td>2025-02-27 08:19:58.079</td>\n",
       "      <td>4.7</td>\n",
       "      <td>0</td>\n",
       "    </tr>\n",
       "  </tbody>\n",
       "</table>\n",
       "</div>"
      ],
      "text/plain": [
       "                     time  mag  target_prediction\n",
       "0 2025-02-27 21:48:30.442  5.0                  0\n",
       "1 2025-02-27 21:06:10.273  5.5                  0\n",
       "2 2025-02-27 20:00:42.970  5.0                  0\n",
       "3 2025-02-27 15:52:59.020  5.1                  0\n",
       "4 2025-02-27 15:30:42.635  4.7                  0\n",
       "5 2025-02-27 14:54:37.188  5.5                  0\n",
       "6 2025-02-27 13:26:39.271  4.8                  0\n",
       "7 2025-02-27 10:23:25.016  4.5                  0\n",
       "8 2025-02-27 08:27:47.775  4.7                  0\n",
       "9 2025-02-27 08:19:58.079  4.7                  0"
      ]
     },
     "metadata": {},
     "output_type": "display_data"
    }
   ],
   "source": [
    "# Threshold magnitude for earthquake\n",
    "threshold_magnitude = 6.0 \n",
    "\n",
    "# Define date ranges for feature and target extraction\n",
    "last_date = gdf['time'].max()\n",
    "start_date = last_date - pd.DateOffset(days=30)\n",
    "\n",
    "# Create 'target_prediction' column\n",
    "gdf['target_prediction'] = ((gdf['mag'] >= threshold_magnitude) & (gdf['time'] >= start_date) & (gdf['time'] <= last_date)).astype(int)\n",
    "\n",
    "# Display the updated DataFrame with the new column\n",
    "display(gdf[['time', 'mag', 'target_prediction']].head(10))\n"
   ]
  },
  {
   "cell_type": "code",
   "execution_count": 13,
   "metadata": {},
   "outputs": [
    {
     "name": "stdout",
     "output_type": "stream",
     "text": [
      "Training and test data files created successfully!\n"
     ]
    }
   ],
   "source": [
    "import pandas as pd\n",
    "from sklearn.model_selection import train_test_split\n",
    "\n",
    "# Threshold magnitude for earthquake\n",
    "threshold_magnitude = 6.0 \n",
    "\n",
    "# Define features and target\n",
    "features = ['time_since_last', 'count_1m', 'count_3m', 'count_6m', 'rolling_avg_3m', 'latitude', 'longitude', 'sarima_forecast', 'depth', 'sig', 'dmin', 'rms', 'gap', 'Shape__Len', 'magType_encoded', 'tectonic_plate_encoded']\n",
    "\n",
    "# Extract features and target variable\n",
    "X = gdf[features]\n",
    "y = gdf['target_prediction']\n",
    "\n",
    "# Handle any missing target values\n",
    "y = y.fillna(0).astype(int)  # Fill missing target values with 0\n",
    "\n",
    "# Use stratified sampling for splitting the data\n",
    "X_train, X_test, y_train, y_test = train_test_split(X, y, test_size=0.2, random_state=42, stratify=y)\n",
    "\n",
    "# Save training data to CSV\n",
    "train_data = pd.concat([X_train, y_train], axis=1)\n",
    "train_data.to_csv('train_data.csv', index=False)\n",
    "\n",
    "# Save test data to CSV\n",
    "test_data = pd.concat([X_test, y_test], axis=1)\n",
    "test_data.to_csv('test_data.csv', index=False)\n",
    "\n",
    "print(\"Training and test data files created successfully!\")"
   ]
  },
  {
   "cell_type": "code",
   "execution_count": 14,
   "metadata": {},
   "outputs": [
    {
     "name": "stdout",
     "output_type": "stream",
     "text": [
      "Logistic Regression Accuracy (Next Month): 1.0\n",
      "Logistic Regression ROC-AUC Score (Next Month): 0.001\n",
      "Overall probability of a magnitude 6.0 or above earthquake happening next month: 0.00\n"
     ]
    }
   ],
   "source": [
    "from sklearn.linear_model import LogisticRegression\n",
    "from sklearn.metrics import accuracy_score, roc_auc_score\n",
    "from sklearn.preprocessing import StandardScaler\n",
    "\n",
    "# Train Logistic Regression model with increased iterations and alternative solver\n",
    "lr_model = LogisticRegression(random_state=42, max_iter=1000, solver='saga')\n",
    "lr_model.fit(X_train, y_train)\n",
    "\n",
    "# Make predictions\n",
    "y_pred_lr = lr_model.predict(X_test)\n",
    "y_prob_lr = lr_model.predict_proba(X_test)[:, 1]\n",
    "\n",
    "# Evaluate the model\n",
    "accuracy_lr = accuracy_score(y_test, y_pred_lr)\n",
    "roc_auc_lr = roc_auc_score(y_test, y_prob_lr)\n",
    "\n",
    "print(\"Logistic Regression Accuracy (Next Month):\", round(accuracy_lr, 3))\n",
    "print(\"Logistic Regression ROC-AUC Score (Next Month):\", round(roc_auc_lr, 3))\n",
    "\n",
    "# Summarize the overall probability\n",
    "overall_prob_lr = y_prob_lr.mean()\n",
    "print(f\"Overall probability of a magnitude 6.0 or above earthquake happening next month: {overall_prob_lr:.2f}\")"
   ]
  },
  {
   "cell_type": "markdown",
   "metadata": {},
   "source": [
    "# Feature Importance"
   ]
  },
  {
   "cell_type": "code",
   "execution_count": 15,
   "metadata": {},
   "outputs": [
    {
     "name": "stdout",
     "output_type": "stream",
     "text": [
      "Gradient Boosting Accuracy (Next Month): 1.0\n",
      "Gradient Boosting ROC-AUC Score (Next Month): 0.506\n",
      "Gradient Boosting Feature Importance (Next Month):\n",
      "                   Feature  Importance\n",
      "4           rolling_avg_3m    0.341836\n",
      "8                    depth    0.326993\n",
      "15  tectonic_plate_encoded    0.240730\n",
      "9                      sig    0.029942\n",
      "7          sarima_forecast    0.012976\n",
      "6                longitude    0.012852\n",
      "1                 count_1m    0.011632\n",
      "2                 count_3m    0.009844\n",
      "3                 count_6m    0.009395\n",
      "12                     gap    0.003801\n",
      "0          time_since_last    0.000000\n",
      "5                 latitude    0.000000\n",
      "10                    dmin    0.000000\n",
      "11                     rms    0.000000\n",
      "13              Shape__Len    0.000000\n",
      "14         magType_encoded    0.000000\n"
     ]
    }
   ],
   "source": [
    "\n",
    "from sklearn.ensemble import GradientBoostingClassifier\n",
    "from sklearn.model_selection import train_test_split\n",
    "from sklearn.metrics import accuracy_score, roc_auc_score\n",
    "\n",
    "# Train the Gradient Boosting model\n",
    "gb_model = GradientBoostingClassifier(n_estimators=100, random_state=42)\n",
    "gb_model.fit(X_train, y_train)\n",
    "\n",
    "# Make predictions\n",
    "y_pred_gb = gb_model.predict(X_test)\n",
    "y_prob_gb = gb_model.predict_proba(X_test)[:, 1]\n",
    "\n",
    "# Evaluate the model\n",
    "accuracy_gb = accuracy_score(y_test, y_pred_gb)\n",
    "roc_auc_gb = roc_auc_score(y_test, y_prob_gb)\n",
    "\n",
    "print(\"Gradient Boosting Accuracy (Next Month):\", round(accuracy_gb, 3))\n",
    "print(\"Gradient Boosting ROC-AUC Score (Next Month):\", round(roc_auc_gb, 3))\n",
    "\n",
    "# Feature Importance\n",
    "importances_gb = gb_model.feature_importances_\n",
    "feature_names = features\n",
    "\n",
    "# Create a DataFrame for better visualization\n",
    "feature_importance_df_gb = pd.DataFrame({'Feature': feature_names, 'Importance': importances_gb})\n",
    "feature_importance_df_gb = feature_importance_df_gb.sort_values(by='Importance', ascending=False)\n",
    "\n",
    "print(\"Gradient Boosting Feature Importance (Next Month):\")\n",
    "print(feature_importance_df_gb)\n",
    "\n"
   ]
  },
  {
   "cell_type": "code",
   "execution_count": 16,
   "metadata": {},
   "outputs": [
    {
     "name": "stdout",
     "output_type": "stream",
     "text": [
      "Data saved to C:\\Users\\thoma\\Documents\\GitHub\\USGS\\earthquake_data_with_plates2.csv\n"
     ]
    }
   ],
   "source": [
    "# Save the updated GeoDataFrame to a CSV file at the specified location\n",
    "csv_file_path = r\"C:\\Users\\thoma\\Documents\\GitHub\\USGS\\earthquake_data_with_plates2.csv\"\n",
    "gdf.to_csv(csv_file_path, index=False)\n",
    "\n",
    "print(f\"Data saved to {csv_file_path}\")"
   ]
  },
  {
   "cell_type": "markdown",
   "metadata": {},
   "source": [
    "# Model"
   ]
  },
  {
   "cell_type": "code",
   "execution_count": 17,
   "metadata": {},
   "outputs": [],
   "source": [
    "from sklearn.model_selection import train_test_split\n",
    "from sklearn.metrics import classification_report, roc_auc_score, accuracy_score\n",
    "from sklearn.metrics import classification_report\n",
    "from sklearn.linear_model import LogisticRegression\n",
    "from sklearn.ensemble import GradientBoostingClassifier\n",
    "from catboost import CatBoostClassifier\n",
    "from sklearn.ensemble import RandomForestClassifier\n",
    "from sklearn.preprocessing import StandardScaler\n",
    "from imblearn.over_sampling import SMOTE\n",
    "from sklearn.model_selection import cross_val_score"
   ]
  },
  {
   "cell_type": "code",
   "execution_count": 18,
   "metadata": {},
   "outputs": [
    {
     "name": "stdout",
     "output_type": "stream",
     "text": [
      "tectonic_plate\n",
      "Sunda             2183\n",
      "Australia         1367\n",
      "Eurasia           1281\n",
      "Philippine Sea    1260\n",
      "Pacific           1113\n",
      "South America     1095\n",
      "North America      996\n",
      "Kermadec           895\n",
      "Okhotsk            810\n",
      "New Hebrides       717\n",
      "Tonga              652\n",
      "Mariana            590\n",
      "Sandwich           577\n",
      "Antarctica         494\n",
      "South Bismarck     477\n",
      "Africa             458\n",
      "Somalia            376\n",
      "Banda Sea          362\n",
      "Altiplano          298\n",
      "Caribbean          276\n",
      "Name: count, dtype: int64\n"
     ]
    }
   ],
   "source": [
    "# select magnitude \n",
    "threshold_magnitude = 6.0\n",
    "\n",
    "# Display the top 10 most common values in the 'tectonic_plate' column\n",
    "most_common_plates = gdf['tectonic_plate'].value_counts().head(20)\n",
    "print(most_common_plates)"
   ]
  },
  {
   "cell_type": "code",
   "execution_count": 19,
   "metadata": {},
   "outputs": [],
   "source": [
    "# Filter Plate\n",
    "#display(gdf.columns)\n",
    "\n",
    "#plate = 'Africa' \n",
    "#def filter_tectonic_plate(gdf_encoded, plate_name):\n",
    "#    return gdf_encoded[gdf_encoded['tectonic_plate'] == plate_name]\n",
    "\n",
    "# Apply the filter function to select data for the Indian Plate\n",
    "#gdf_plate = filter_tectonic_plate(gdf, plate)\n",
    "#display(gdf_plate.info())"
   ]
  },
  {
   "cell_type": "code",
   "execution_count": 20,
   "metadata": {},
   "outputs": [
    {
     "name": "stdout",
     "output_type": "stream",
     "text": [
      "Class distribution in y_train:\n",
      "target_prediction\n",
      "0    15665\n",
      "1        3\n",
      "Name: count, dtype: int64\n",
      "Data preprocessing with SMOTE and StandardScaler completed successfully!\n"
     ]
    }
   ],
   "source": [
    "# Handle any missing target values\n",
    "y = y.fillna(0).astype(int)  # Fill missing target values with 0\n",
    "\n",
    "# Split the data into training and test sets\n",
    "X_train, X_test, y_train, y_test = train_test_split(X, y, test_size=0.2, random_state=42, stratify=y)\n",
    "\n",
    "# Check class distribution in the training set\n",
    "print(\"Class distribution in y_train:\")\n",
    "print(y_train.value_counts())\n",
    "\n",
    "# Apply SMOTE to balance the target variable in the training set with reduced n_neighbors\n",
    "smote = SMOTE(random_state=42, k_neighbors=2)  # Reduce n_neighbors to 2\n",
    "X_resampled, y_resampled = smote.fit_resample(X_train, y_train)\n",
    "\n",
    "# Apply StandardScaler to the resampled data\n",
    "scaler = StandardScaler()\n",
    "X_resampled_scaled = scaler.fit_transform(X_resampled)\n",
    "X_test_scaled = scaler.transform(X_test)\n",
    "\n",
    "print(\"Data preprocessing with SMOTE and StandardScaler completed successfully!\")\n"
   ]
  },
  {
   "cell_type": "code",
   "execution_count": 21,
   "metadata": {},
   "outputs": [],
   "source": [
    "# Define features and target variable with encoded columns\n",
    "#features = ['time_since_last', 'count_1m', 'count_3m', 'count_6m', 'rolling_avg_3m', 'latitude', 'longitude', 'sarima_forecast', 'depth', 'sig', 'dmin', 'rms', 'gap', 'Shape__Len', 'magType_encoded']\n",
    "\n",
    "# Split data into training and testing sets\n",
    "#X_train, X_test, y_train, y_test = train_test_split(X, y, test_size=0.2, random_state=42)\n",
    "#y = gdf['target_next_month'] \n",
    "\n",
    "# Split data into training and testing sets\n",
    "#X_train, X_test, y_train, y_test = train_test_split(X, y, test_size=0.2, random_state=42)"
   ]
  },
  {
   "cell_type": "code",
   "execution_count": 22,
   "metadata": {},
   "outputs": [
    {
     "name": "stdout",
     "output_type": "stream",
     "text": [
      "Logistic Regression Accuracy (Next Month): 1.0\n",
      "Logistic Regression ROC-AUC Score (Next Month): 0.001\n"
     ]
    }
   ],
   "source": [
    "\n",
    "# Train the Logistic Regression model\n",
    "log_reg_model = LogisticRegression(random_state=42, max_iter=1000)\n",
    "log_reg_model.fit(X_train, y_train)\n",
    "\n",
    "# Make predictions for Logistic Regression\n",
    "y_pred_log_reg = log_reg_model.predict(X_test)\n",
    "y_prob_log_reg = log_reg_model.predict_proba(X_test)[:, 1]\n",
    "\n",
    "# Evaluate the Logistic Regression model\n",
    "accuracy_log_reg = accuracy_score(y_test, y_pred_log_reg)\n",
    "roc_auc_log_reg = roc_auc_score(y_test, y_prob_log_reg)\n",
    "\n",
    "print(\"Logistic Regression Accuracy (Next Month):\", round(accuracy_log_reg, 3))\n",
    "print(\"Logistic Regression ROC-AUC Score (Next Month):\", round(roc_auc_log_reg, 3))\n"
   ]
  },
  {
   "cell_type": "code",
   "execution_count": 23,
   "metadata": {},
   "outputs": [
    {
     "name": "stdout",
     "output_type": "stream",
     "text": [
      "Gradient Boosting Accuracy (Next Month): 1.0\n",
      "Gradient Boosting ROC-AUC Score (Next Month): 0.506\n"
     ]
    }
   ],
   "source": [
    "# next month gradient boost\n",
    "gb_model_z = GradientBoostingClassifier(n_estimators=100, random_state=42)\n",
    "gb_model_z.fit(X_train, y_train)\n",
    "\n",
    "# Make predictions\n",
    "y_pred_gb_z = gb_model_z.predict(X_test)\n",
    "y_prob_gb_z = gb_model_z.predict_proba(X_test)[:, 1]\n",
    "\n",
    "# Evaluate the model\n",
    "accuracy_gb_z = accuracy_score(y_test, y_pred_gb_z)\n",
    "roc_auc_gb_z = roc_auc_score(y_test, y_prob_gb_z)\n",
    "\n",
    "print(\"Gradient Boosting Accuracy (Next Month):\", round(accuracy_gb_z, 3))\n",
    "print(\"Gradient Boosting ROC-AUC Score (Next Month):\", round(roc_auc_gb_z, 3))\n"
   ]
  },
  {
   "cell_type": "code",
   "execution_count": 24,
   "metadata": {},
   "outputs": [
    {
     "name": "stdout",
     "output_type": "stream",
     "text": [
      "Random Forest Accuracy (Next Month): 0.9997447677\n",
      "Random Forest ROC-AUC Score (Next Month): 0.9941281593\n"
     ]
    }
   ],
   "source": [
    "\n",
    "# Define the Random Forest model\n",
    "rf_model = RandomForestClassifier(n_estimators=100, random_state=42)\n",
    "\n",
    "# Train the Random Forest model\n",
    "rf_model.fit(X_train, y_train)\n",
    "\n",
    "# Make predictions\n",
    "y_pred_rf = rf_model.predict(X_test)\n",
    "y_prob_rf = rf_model.predict_proba(X_test)[:, 1]\n",
    "\n",
    "# Evaluate the Random Forest model\n",
    "accuracy_rf = accuracy_score(y_test, y_pred_rf)\n",
    "roc_auc_rf = roc_auc_score(y_test, y_prob_rf)\n",
    "\n",
    "print(\"Random Forest Accuracy (Next Month):\", round(accuracy_rf, 10))\n",
    "print(\"Random Forest ROC-AUC Score (Next Month):\", round(roc_auc_rf, 10))\n"
   ]
  },
  {
   "cell_type": "code",
   "execution_count": 25,
   "metadata": {},
   "outputs": [
    {
     "name": "stdout",
     "output_type": "stream",
     "text": [
      "CatBoost Accuracy (Next Month): 0.9997447677\n",
      "CatBoost ROC-AUC Score (Next Month): 0.9954046464\n"
     ]
    }
   ],
   "source": [
    "# next months gradient cat boost\n",
    "catboost_model_z = CatBoostClassifier(iterations=100, random_state=42, verbose=0)\n",
    "catboost_model_z.fit(X_train, y_train)\n",
    "\n",
    "# Make predictions\n",
    "y_pred_cb_z = catboost_model_z.predict(X_test)\n",
    "y_prob_cb_z = catboost_model_z.predict_proba(X_test)[:, 1]\n",
    "\n",
    "# Evaluate the CatBoost model\n",
    "accuracy_cb_z = accuracy_score(y_test, y_pred_cb_z)\n",
    "roc_auc_cb_z = roc_auc_score(y_test, y_prob_cb_z)\n",
    "\n",
    "print(\"CatBoost Accuracy (Next Month):\", round(accuracy_cb_z, 10))\n",
    "print(\"CatBoost ROC-AUC Score (Next Month):\", round(roc_auc_cb_z, 10))\n"
   ]
  },
  {
   "cell_type": "markdown",
   "metadata": {},
   "source": [
    "# Hyperparameter Tuning and Cross-Validation"
   ]
  },
  {
   "cell_type": "code",
   "execution_count": 26,
   "metadata": {},
   "outputs": [
    {
     "name": "stdout",
     "output_type": "stream",
     "text": [
      "Best CatBoost Accuracy (Next Month): 0.999\n",
      "Best CatBoost ROC-AUC Score (Next Month): 0.993\n"
     ]
    },
    {
     "ename": "NameError",
     "evalue": "name 'X_train_scaled' is not defined",
     "output_type": "error",
     "traceback": [
      "\u001b[1;31m---------------------------------------------------------------------------\u001b[0m",
      "\u001b[1;31mNameError\u001b[0m                                 Traceback (most recent call last)",
      "Cell \u001b[1;32mIn[26], line 54\u001b[0m\n\u001b[0;32m     51\u001b[0m \u001b[38;5;28mprint\u001b[39m(\u001b[38;5;124m\"\u001b[39m\u001b[38;5;124mBest CatBoost ROC-AUC Score (Next Month):\u001b[39m\u001b[38;5;124m\"\u001b[39m, \u001b[38;5;28mround\u001b[39m(roc_auc_best, \u001b[38;5;241m3\u001b[39m))\n\u001b[0;32m     53\u001b[0m \u001b[38;5;66;03m# Cross-validate the best model to check for overfitting\u001b[39;00m\n\u001b[1;32m---> 54\u001b[0m cross_val_scores_best \u001b[38;5;241m=\u001b[39m cross_val_score(best_model, \u001b[43mX_train_scaled\u001b[49m, y_train, cv\u001b[38;5;241m=\u001b[39m\u001b[38;5;241m5\u001b[39m, scoring\u001b[38;5;241m=\u001b[39m\u001b[38;5;124m'\u001b[39m\u001b[38;5;124mroc_auc\u001b[39m\u001b[38;5;124m'\u001b[39m)\n\u001b[0;32m     55\u001b[0m \u001b[38;5;28mprint\u001b[39m(\u001b[38;5;124mf\u001b[39m\u001b[38;5;124m\"\u001b[39m\u001b[38;5;124mCross-validation ROC-AUC scores: \u001b[39m\u001b[38;5;132;01m{\u001b[39;00mcross_val_scores_best\u001b[38;5;132;01m}\u001b[39;00m\u001b[38;5;124m\"\u001b[39m)\n\u001b[0;32m     56\u001b[0m \u001b[38;5;28mprint\u001b[39m(\u001b[38;5;124mf\u001b[39m\u001b[38;5;124m\"\u001b[39m\u001b[38;5;124mMean Cross-validation ROC-AUC score: \u001b[39m\u001b[38;5;132;01m{\u001b[39;00mcross_val_scores_best\u001b[38;5;241m.\u001b[39mmean()\u001b[38;5;132;01m}\u001b[39;00m\u001b[38;5;124m\"\u001b[39m)\n",
      "\u001b[1;31mNameError\u001b[0m: name 'X_train_scaled' is not defined"
     ]
    }
   ],
   "source": [
    "from sklearn.model_selection import GridSearchCV\n",
    "from catboost import CatBoostClassifier\n",
    "from sklearn.metrics import accuracy_score, roc_auc_score\n",
    "from sklearn.preprocessing import StandardScaler\n",
    "from imblearn.over_sampling import SMOTE\n",
    "\n",
    "# Define features and target\n",
    "features = ['time_since_last', 'count_1m', 'count_3m', 'count_6m', 'rolling_avg_3m', 'latitude', 'longitude', 'sarima_forecast', 'depth', 'sig', 'dmin', 'rms', 'gap', 'Shape__Len', 'magType_encoded', 'tectonic_plate_encoded']\n",
    "X = gdf[features]\n",
    "y = gdf['target_prediction']\n",
    "\n",
    "# Handle any missing target values\n",
    "y = y.fillna(0).astype(int)  # Fill missing target values with 0\n",
    "\n",
    "# Split the data into training and test sets\n",
    "X_train, X_test, y_train, y_test = train_test_split(X, y, test_size=0.2, random_state=42, stratify=y)\n",
    "\n",
    "# Apply SMOTE to balance the target variable in the training set with reduced n_neighbors\n",
    "smote = SMOTE(random_state=42, k_neighbors=2)  # Reduce n_neighbors to 2\n",
    "X_resampled, y_resampled = smote.fit_resample(X_train, y_train)\n",
    "\n",
    "# Apply StandardScaler to the resampled data\n",
    "scaler = StandardScaler()\n",
    "X_resampled_scaled = scaler.fit_transform(X_resampled)\n",
    "X_test_scaled = scaler.transform(X_test)\n",
    "\n",
    "# Define the parameter grid for hyperparameter tuning\n",
    "param_grid = {\n",
    "    'iterations': [50, 100, 200],\n",
    "    'learning_rate': [0.01, 0.05, 0.1],\n",
    "    'depth': [4, 6, 8],\n",
    "    'l2_leaf_reg': [1, 3, 5]\n",
    "}\n",
    "\n",
    "# Perform GridSearchCV for hyperparameter tuning\n",
    "grid_search = GridSearchCV(CatBoostClassifier(random_state=42, verbose=0), param_grid, cv=5, scoring='roc_auc')\n",
    "grid_search.fit(X_resampled_scaled, y_resampled)\n",
    "\n",
    "# Get the best parameters and model\n",
    "best_params = grid_search.best_params_\n",
    "best_model = grid_search.best_estimator_\n",
    "\n",
    "# Evaluate the best model\n",
    "y_pred_best = best_model.predict(X_test_scaled)\n",
    "y_prob_best = best_model.predict_proba(X_test_scaled)[:, 1]\n",
    "\n",
    "accuracy_best = accuracy_score(y_test, y_pred_best)\n",
    "roc_auc_best = roc_auc_score(y_test, y_prob_best)\n",
    "\n",
    "print(\"Best CatBoost Accuracy (Next Month):\", round(accuracy_best, 3))\n",
    "print(\"Best CatBoost ROC-AUC Score (Next Month):\", round(roc_auc_best, 3))\n",
    "\n",
    "# Cross-validate the best model to check for overfitting\n",
    "cross_val_scores_best = cross_val_score(best_model, X_train_scaled, y_train, cv=5, scoring='roc_auc')\n",
    "print(f\"Cross-validation ROC-AUC scores: {cross_val_scores_best}\")\n",
    "print(f\"Mean Cross-validation ROC-AUC score: {cross_val_scores_best.mean()}\")\n",
    "\n",
    "# Evaluate Feature Importance of the best model\n",
    "importances_best = best_model.feature_importances_\n",
    "feature_importance_df_best = pd.DataFrame({'Feature': feature_names, 'Importance': importances_best})\n",
    "feature_importance_df_best = feature_importance_df_best.sort_values(by='Importance', ascending=False)\n",
    "\n",
    "print(\"Best CatBoost Feature Importance (Next Month):\")\n",
    "print(feature_importance_df_best)\n",
    "\n"
   ]
  },
  {
   "cell_type": "markdown",
   "metadata": {},
   "source": [
    "# Cross-validate"
   ]
  },
  {
   "cell_type": "code",
   "execution_count": null,
   "metadata": {},
   "outputs": [
    {
     "name": "stderr",
     "output_type": "stream",
     "text": [
      "C:\\Users\\thoma\\AppData\\Local\\Packages\\PythonSoftwareFoundation.Python.3.11_qbz5n2kfra8p0\\LocalCache\\local-packages\\Python311\\site-packages\\sklearn\\model_selection\\_split.py:776: UserWarning: The least populated class in y has only 4 members, which is less than n_splits=5.\n",
      "  warnings.warn(\n"
     ]
    },
    {
     "name": "stdout",
     "output_type": "stream",
     "text": [
      "Cross-validation ROC-AUC scores: [0.99345466 0.49281609 0.99553001 0.49537037        nan]\n",
      "Mean Cross-validation ROC-AUC score: nan\n"
     ]
    },
    {
     "name": "stderr",
     "output_type": "stream",
     "text": [
      "C:\\Users\\thoma\\AppData\\Local\\Packages\\PythonSoftwareFoundation.Python.3.11_qbz5n2kfra8p0\\LocalCache\\local-packages\\Python311\\site-packages\\sklearn\\model_selection\\_validation.py:1000: UserWarning: Scoring failed. The score on this train-test partition for these parameters will be set to nan. Details: \n",
      "Traceback (most recent call last):\n",
      "  File \"C:\\Users\\thoma\\AppData\\Local\\Packages\\PythonSoftwareFoundation.Python.3.11_qbz5n2kfra8p0\\LocalCache\\local-packages\\Python311\\site-packages\\sklearn\\metrics\\_scorer.py\", line 139, in __call__\n",
      "    score = scorer._score(\n",
      "            ^^^^^^^^^^^^^^\n",
      "  File \"C:\\Users\\thoma\\AppData\\Local\\Packages\\PythonSoftwareFoundation.Python.3.11_qbz5n2kfra8p0\\LocalCache\\local-packages\\Python311\\site-packages\\sklearn\\metrics\\_scorer.py\", line 376, in _score\n",
      "    return self._sign * self._score_func(y_true, y_pred, **scoring_kwargs)\n",
      "                        ^^^^^^^^^^^^^^^^^^^^^^^^^^^^^^^^^^^^^^^^^^^^^^^^^^\n",
      "  File \"C:\\Users\\thoma\\AppData\\Local\\Packages\\PythonSoftwareFoundation.Python.3.11_qbz5n2kfra8p0\\LocalCache\\local-packages\\Python311\\site-packages\\sklearn\\utils\\_param_validation.py\", line 213, in wrapper\n",
      "    return func(*args, **kwargs)\n",
      "           ^^^^^^^^^^^^^^^^^^^^^\n",
      "  File \"C:\\Users\\thoma\\AppData\\Local\\Packages\\PythonSoftwareFoundation.Python.3.11_qbz5n2kfra8p0\\LocalCache\\local-packages\\Python311\\site-packages\\sklearn\\metrics\\_ranking.py\", line 640, in roc_auc_score\n",
      "    return _average_binary_score(\n",
      "           ^^^^^^^^^^^^^^^^^^^^^^\n",
      "  File \"C:\\Users\\thoma\\AppData\\Local\\Packages\\PythonSoftwareFoundation.Python.3.11_qbz5n2kfra8p0\\LocalCache\\local-packages\\Python311\\site-packages\\sklearn\\metrics\\_base.py\", line 76, in _average_binary_score\n",
      "    return binary_metric(y_true, y_score, sample_weight=sample_weight)\n",
      "           ^^^^^^^^^^^^^^^^^^^^^^^^^^^^^^^^^^^^^^^^^^^^^^^^^^^^^^^^^^^\n",
      "  File \"C:\\Users\\thoma\\AppData\\Local\\Packages\\PythonSoftwareFoundation.Python.3.11_qbz5n2kfra8p0\\LocalCache\\local-packages\\Python311\\site-packages\\sklearn\\metrics\\_ranking.py\", line 382, in _binary_roc_auc_score\n",
      "    raise ValueError(\n",
      "ValueError: Only one class present in y_true. ROC AUC score is not defined in that case.\n",
      "\n",
      "  warnings.warn(\n"
     ]
    }
   ],
   "source": [
    "# Define the Random Forest model\n",
    "rf_model = RandomForestClassifier(n_estimators=100, random_state=42)\n",
    "\n",
    "# Cross-validate the model to check for overfitting\n",
    "cross_val_scores_rf = cross_val_score(rf_model, X_train, y_train, cv=5, scoring='roc_auc')\n",
    "print(f\"Cross-validation ROC-AUC scores: {cross_val_scores_rf}\")\n",
    "print(f\"Mean Cross-validation ROC-AUC score: {cross_val_scores_rf.mean()}\")"
   ]
  },
  {
   "cell_type": "code",
   "execution_count": null,
   "metadata": {},
   "outputs": [
    {
     "name": "stderr",
     "output_type": "stream",
     "text": [
      "C:\\Users\\thoma\\AppData\\Local\\Packages\\PythonSoftwareFoundation.Python.3.11_qbz5n2kfra8p0\\LocalCache\\local-packages\\Python311\\site-packages\\sklearn\\model_selection\\_split.py:776: UserWarning: The least populated class in y has only 4 members, which is less than n_splits=5.\n",
      "  warnings.warn(\n"
     ]
    },
    {
     "name": "stdout",
     "output_type": "stream",
     "text": [
      "Cross-validation ROC-AUC scores: [0.99968072 0.99553001 0.99042146 0.97637292        nan]\n",
      "Mean Cross-validation ROC-AUC score: nan\n"
     ]
    },
    {
     "name": "stderr",
     "output_type": "stream",
     "text": [
      "C:\\Users\\thoma\\AppData\\Local\\Packages\\PythonSoftwareFoundation.Python.3.11_qbz5n2kfra8p0\\LocalCache\\local-packages\\Python311\\site-packages\\sklearn\\model_selection\\_validation.py:1000: UserWarning: Scoring failed. The score on this train-test partition for these parameters will be set to nan. Details: \n",
      "Traceback (most recent call last):\n",
      "  File \"C:\\Users\\thoma\\AppData\\Local\\Packages\\PythonSoftwareFoundation.Python.3.11_qbz5n2kfra8p0\\LocalCache\\local-packages\\Python311\\site-packages\\sklearn\\metrics\\_scorer.py\", line 139, in __call__\n",
      "    score = scorer._score(\n",
      "            ^^^^^^^^^^^^^^\n",
      "  File \"C:\\Users\\thoma\\AppData\\Local\\Packages\\PythonSoftwareFoundation.Python.3.11_qbz5n2kfra8p0\\LocalCache\\local-packages\\Python311\\site-packages\\sklearn\\metrics\\_scorer.py\", line 376, in _score\n",
      "    return self._sign * self._score_func(y_true, y_pred, **scoring_kwargs)\n",
      "                        ^^^^^^^^^^^^^^^^^^^^^^^^^^^^^^^^^^^^^^^^^^^^^^^^^^\n",
      "  File \"C:\\Users\\thoma\\AppData\\Local\\Packages\\PythonSoftwareFoundation.Python.3.11_qbz5n2kfra8p0\\LocalCache\\local-packages\\Python311\\site-packages\\sklearn\\utils\\_param_validation.py\", line 213, in wrapper\n",
      "    return func(*args, **kwargs)\n",
      "           ^^^^^^^^^^^^^^^^^^^^^\n",
      "  File \"C:\\Users\\thoma\\AppData\\Local\\Packages\\PythonSoftwareFoundation.Python.3.11_qbz5n2kfra8p0\\LocalCache\\local-packages\\Python311\\site-packages\\sklearn\\metrics\\_ranking.py\", line 640, in roc_auc_score\n",
      "    return _average_binary_score(\n",
      "           ^^^^^^^^^^^^^^^^^^^^^^\n",
      "  File \"C:\\Users\\thoma\\AppData\\Local\\Packages\\PythonSoftwareFoundation.Python.3.11_qbz5n2kfra8p0\\LocalCache\\local-packages\\Python311\\site-packages\\sklearn\\metrics\\_base.py\", line 76, in _average_binary_score\n",
      "    return binary_metric(y_true, y_score, sample_weight=sample_weight)\n",
      "           ^^^^^^^^^^^^^^^^^^^^^^^^^^^^^^^^^^^^^^^^^^^^^^^^^^^^^^^^^^^\n",
      "  File \"C:\\Users\\thoma\\AppData\\Local\\Packages\\PythonSoftwareFoundation.Python.3.11_qbz5n2kfra8p0\\LocalCache\\local-packages\\Python311\\site-packages\\sklearn\\metrics\\_ranking.py\", line 382, in _binary_roc_auc_score\n",
      "    raise ValueError(\n",
      "ValueError: Only one class present in y_true. ROC AUC score is not defined in that case.\n",
      "\n",
      "  warnings.warn(\n"
     ]
    }
   ],
   "source": [
    "# Cross-validate the model to check for overfitting\n",
    "\n",
    "\n",
    "cross_val_scores = cross_val_score(catboost_model_z, X_train, y_train, cv=5, scoring='roc_auc')\n",
    "print(f\"Cross-validation ROC-AUC scores: {cross_val_scores}\")\n",
    "print(f\"Mean Cross-validation ROC-AUC score: {cross_val_scores.mean()}\")"
   ]
  },
  {
   "cell_type": "markdown",
   "metadata": {},
   "source": [
    "# Forcast"
   ]
  },
  {
   "cell_type": "code",
   "execution_count": null,
   "metadata": {},
   "outputs": [
    {
     "name": "stdout",
     "output_type": "stream",
     "text": [
      "Overall probability of a magnitude 6.0 or above earthquake happening next month: 0.00\n"
     ]
    }
   ],
   "source": [
    "# Define the Random Forest model\n",
    "rf_model = RandomForestClassifier(n_estimators=100, random_state=42)\n",
    "\n",
    "# Train the Random Forest model\n",
    "rf_model.fit(X_train, y_train)\n",
    "\n",
    "# Make predictions for the next month\n",
    "y_pred_new_rf = rf_model.predict(X_test)\n",
    "y_prob_new_rf = rf_model.predict_proba(X_test)[:, 1]\n",
    "\n",
    "# Summarize the overall probability\n",
    "overall_prob_rf = y_prob_new_rf.mean()\n",
    "print(f\"Overall probability of a magnitude 6.0 or above earthquake happening next month: {overall_prob_rf:.2f}\")\n"
   ]
  },
  {
   "cell_type": "code",
   "execution_count": null,
   "metadata": {},
   "outputs": [
    {
     "name": "stdout",
     "output_type": "stream",
     "text": [
      "Overall probability of a magnitude 6.0 or above earthquake happening next month: 0.00\n"
     ]
    }
   ],
   "source": [
    "\n",
    "# Assuming `catboost_model_z` is already trained\n",
    "catboost_model_z = CatBoostClassifier(iterations=100, random_seed=42, verbose=0)\n",
    "catboost_model_z.fit(X_train, y_train)\n",
    "\n",
    "# Make predictions for the next month\n",
    "y_pred_new = catboost_model_z.predict(X_test)\n",
    "y_prob_new = catboost_model_z.predict_proba(X_test)[:, 1]\n",
    "\n",
    "# Summarize the overall probability\n",
    "overall_prob = y_prob_new.mean()\n",
    "print(f\"Overall probability of a magnitude 6.0 or above earthquake happening next month: {overall_prob:.2f}\")\n",
    "\n",
    "\n"
   ]
  }
 ],
 "metadata": {
  "kernelspec": {
   "display_name": "Python 3",
   "language": "python",
   "name": "python3"
  },
  "language_info": {
   "codemirror_mode": {
    "name": "ipython",
    "version": 3
   },
   "file_extension": ".py",
   "mimetype": "text/x-python",
   "name": "python",
   "nbconvert_exporter": "python",
   "pygments_lexer": "ipython3",
   "version": "3.11.9"
  }
 },
 "nbformat": 4,
 "nbformat_minor": 2
}
